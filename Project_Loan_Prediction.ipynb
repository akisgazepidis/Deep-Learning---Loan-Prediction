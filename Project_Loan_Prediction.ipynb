{
 "cells": [
  {
   "cell_type": "code",
   "execution_count": 30,
   "id": "4447829b",
   "metadata": {
    "ExecuteTime": {
     "end_time": "2021-11-30T10:34:01.826983Z",
     "start_time": "2021-11-30T10:34:01.814017Z"
    }
   },
   "outputs": [],
   "source": [
    "import pandas as pd\n",
    "import numpy as np\n",
    "# from datetime import timedelta, datetime\n",
    "# import time\n",
    "\n",
    "import matplotlib.pyplot as plt\n",
    "%matplotlib inline\n",
    "import seaborn as sns\n",
    "import klib\n",
    "\n",
    "from sklearn.utils import shuffle\n",
    "from sklearn.model_selection import train_test_split\n",
    "from sklearn.preprocessing import StandardScaler,MinMaxScaler\n",
    "from sklearn.metrics import confusion_matrix, mean_squared_error, roc_curve, plot_roc_curve, roc_auc_score\n",
    "\n",
    "from imblearn.over_sampling import ADASYN\n",
    "\n",
    "from tensorflow  import keras\n",
    "from keras.models import Sequential\n",
    "from keras import layers\n",
    "\n",
    "import tensorflow as tf\n",
    "from tensorflow.keras.layers import Dense, Dropout, Activation, Flatten, Conv2D, MaxPool2D,InputLayer\n",
    "from tensorflow.keras.callbacks import TensorBoard,ReduceLROnPlateau,EarlyStopping\n",
    "import tensorflow as tf\n",
    "from tensorflow.keras.optimizers import SGD\n",
    "\n",
    "import shap"
   ]
  },
  {
   "cell_type": "markdown",
   "id": "9c7fd231",
   "metadata": {},
   "source": [
    "##### 1.ID : Customer ID\n",
    "\n",
    "##### 2.Age : Customer's age in completed years\n",
    "\n",
    "##### 3.Experience : #years of professional experience\n",
    "\n",
    "##### 4.Income : Annual income of the customer ($000)\n",
    "\n",
    "##### 5.ZIP Code : Home Address ZIP code.\n",
    "\n",
    "##### 6.Family : Family size of the customer\n",
    "\n",
    "##### 7.CCAvg : Avg. spending on credit cards per month ($000)\n",
    "\n",
    "##### 8.Education : Education Level. (1: Undergrad; 2: Graduate; 3: Advanced/Professional)\n",
    "\n",
    "##### 9.\"Mortgage : Value of house mortgage if any. ($000)\n",
    "\n",
    "##### 10.Personal Loan : Did this customer accept the personal loan offered in the last campaign?\n",
    "\n",
    "##### 11.Securities Account : Does the customer have a securities account with the bank?\n",
    "\n",
    "##### 12.CD Account : Does the customer have a certificate of deposit (CD) account with the bank?\n",
    "\n",
    "##### 13.Online : Does the customer use internet banking facilities?\n",
    "\n",
    "##### 14.Credit card : Does the customer use a credit card issued by"
   ]
  },
  {
   "cell_type": "code",
   "execution_count": 31,
   "id": "94e47928",
   "metadata": {
    "ExecuteTime": {
     "end_time": "2021-11-30T10:34:02.435959Z",
     "start_time": "2021-11-30T10:34:02.413985Z"
    }
   },
   "outputs": [],
   "source": [
    "loans = pd.read_csv('Bank_Personal_Loan_Modelling.csv')"
   ]
  },
  {
   "cell_type": "code",
   "execution_count": 32,
   "id": "ff73f0c2",
   "metadata": {
    "ExecuteTime": {
     "end_time": "2021-11-30T10:34:02.715971Z",
     "start_time": "2021-11-30T10:34:02.700011Z"
    }
   },
   "outputs": [
    {
     "data": {
      "text/html": [
       "<div>\n",
       "<style scoped>\n",
       "    .dataframe tbody tr th:only-of-type {\n",
       "        vertical-align: middle;\n",
       "    }\n",
       "\n",
       "    .dataframe tbody tr th {\n",
       "        vertical-align: top;\n",
       "    }\n",
       "\n",
       "    .dataframe thead th {\n",
       "        text-align: right;\n",
       "    }\n",
       "</style>\n",
       "<table border=\"1\" class=\"dataframe\">\n",
       "  <thead>\n",
       "    <tr style=\"text-align: right;\">\n",
       "      <th></th>\n",
       "      <th>ID</th>\n",
       "      <th>Age</th>\n",
       "      <th>Experience</th>\n",
       "      <th>Income</th>\n",
       "      <th>ZIP Code</th>\n",
       "      <th>Family</th>\n",
       "      <th>CCAvg</th>\n",
       "      <th>Education</th>\n",
       "      <th>Mortgage</th>\n",
       "      <th>Personal Loan</th>\n",
       "      <th>Securities Account</th>\n",
       "      <th>CD Account</th>\n",
       "      <th>Online</th>\n",
       "      <th>CreditCard</th>\n",
       "    </tr>\n",
       "  </thead>\n",
       "  <tbody>\n",
       "    <tr>\n",
       "      <th>0</th>\n",
       "      <td>1</td>\n",
       "      <td>25</td>\n",
       "      <td>1</td>\n",
       "      <td>49</td>\n",
       "      <td>91107</td>\n",
       "      <td>4</td>\n",
       "      <td>1.6</td>\n",
       "      <td>1</td>\n",
       "      <td>0</td>\n",
       "      <td>0</td>\n",
       "      <td>1</td>\n",
       "      <td>0</td>\n",
       "      <td>0</td>\n",
       "      <td>0</td>\n",
       "    </tr>\n",
       "    <tr>\n",
       "      <th>1</th>\n",
       "      <td>2</td>\n",
       "      <td>45</td>\n",
       "      <td>19</td>\n",
       "      <td>34</td>\n",
       "      <td>90089</td>\n",
       "      <td>3</td>\n",
       "      <td>1.5</td>\n",
       "      <td>1</td>\n",
       "      <td>0</td>\n",
       "      <td>0</td>\n",
       "      <td>1</td>\n",
       "      <td>0</td>\n",
       "      <td>0</td>\n",
       "      <td>0</td>\n",
       "    </tr>\n",
       "    <tr>\n",
       "      <th>2</th>\n",
       "      <td>3</td>\n",
       "      <td>39</td>\n",
       "      <td>15</td>\n",
       "      <td>11</td>\n",
       "      <td>94720</td>\n",
       "      <td>1</td>\n",
       "      <td>1.0</td>\n",
       "      <td>1</td>\n",
       "      <td>0</td>\n",
       "      <td>0</td>\n",
       "      <td>0</td>\n",
       "      <td>0</td>\n",
       "      <td>0</td>\n",
       "      <td>0</td>\n",
       "    </tr>\n",
       "    <tr>\n",
       "      <th>3</th>\n",
       "      <td>4</td>\n",
       "      <td>35</td>\n",
       "      <td>9</td>\n",
       "      <td>100</td>\n",
       "      <td>94112</td>\n",
       "      <td>1</td>\n",
       "      <td>2.7</td>\n",
       "      <td>2</td>\n",
       "      <td>0</td>\n",
       "      <td>0</td>\n",
       "      <td>0</td>\n",
       "      <td>0</td>\n",
       "      <td>0</td>\n",
       "      <td>0</td>\n",
       "    </tr>\n",
       "    <tr>\n",
       "      <th>4</th>\n",
       "      <td>5</td>\n",
       "      <td>35</td>\n",
       "      <td>8</td>\n",
       "      <td>45</td>\n",
       "      <td>91330</td>\n",
       "      <td>4</td>\n",
       "      <td>1.0</td>\n",
       "      <td>2</td>\n",
       "      <td>0</td>\n",
       "      <td>0</td>\n",
       "      <td>0</td>\n",
       "      <td>0</td>\n",
       "      <td>0</td>\n",
       "      <td>1</td>\n",
       "    </tr>\n",
       "  </tbody>\n",
       "</table>\n",
       "</div>"
      ],
      "text/plain": [
       "   ID  Age  Experience  Income  ZIP Code  Family  CCAvg  Education  Mortgage  \\\n",
       "0   1   25           1      49     91107       4    1.6          1         0   \n",
       "1   2   45          19      34     90089       3    1.5          1         0   \n",
       "2   3   39          15      11     94720       1    1.0          1         0   \n",
       "3   4   35           9     100     94112       1    2.7          2         0   \n",
       "4   5   35           8      45     91330       4    1.0          2         0   \n",
       "\n",
       "   Personal Loan  Securities Account  CD Account  Online  CreditCard  \n",
       "0              0                   1           0       0           0  \n",
       "1              0                   1           0       0           0  \n",
       "2              0                   0           0       0           0  \n",
       "3              0                   0           0       0           0  \n",
       "4              0                   0           0       0           1  "
      ]
     },
     "execution_count": 32,
     "metadata": {},
     "output_type": "execute_result"
    }
   ],
   "source": [
    "loans.head()"
   ]
  },
  {
   "cell_type": "code",
   "execution_count": 33,
   "id": "6bcd149f",
   "metadata": {
    "ExecuteTime": {
     "end_time": "2021-11-30T10:34:02.995658Z",
     "start_time": "2021-11-30T10:34:02.981694Z"
    }
   },
   "outputs": [
    {
     "data": {
      "text/plain": [
       "(5000, 14)"
      ]
     },
     "execution_count": 33,
     "metadata": {},
     "output_type": "execute_result"
    }
   ],
   "source": [
    "loans.shape"
   ]
  },
  {
   "cell_type": "code",
   "execution_count": 34,
   "id": "edc97859",
   "metadata": {
    "ExecuteTime": {
     "end_time": "2021-11-30T10:34:03.322626Z",
     "start_time": "2021-11-30T10:34:03.316641Z"
    }
   },
   "outputs": [
    {
     "data": {
      "text/plain": [
       "467"
      ]
     },
     "execution_count": 34,
     "metadata": {},
     "output_type": "execute_result"
    }
   ],
   "source": [
    "len(loans['ZIP Code'].unique())"
   ]
  },
  {
   "cell_type": "code",
   "execution_count": 35,
   "id": "afb5a056",
   "metadata": {
    "ExecuteTime": {
     "end_time": "2021-11-30T10:34:03.678800Z",
     "start_time": "2021-11-30T10:34:03.661819Z"
    }
   },
   "outputs": [],
   "source": [
    "'''\n",
    "Fix value into real ones.\n",
    "'''\n",
    "loans.CCAvg = loans.CCAvg*1000\n",
    "loans.Mortgage = loans.Mortgage*1000"
   ]
  },
  {
   "cell_type": "code",
   "execution_count": 36,
   "id": "2a7e6f4a",
   "metadata": {
    "ExecuteTime": {
     "end_time": "2021-11-30T10:34:03.942580Z",
     "start_time": "2021-11-30T10:34:03.933603Z"
    }
   },
   "outputs": [
    {
     "name": "stdout",
     "output_type": "stream",
     "text": [
      "No missing values found in the dataset.\n"
     ]
    }
   ],
   "source": [
    "klib.missingval_plot(loans)"
   ]
  },
  {
   "cell_type": "code",
   "execution_count": 37,
   "id": "03019866",
   "metadata": {
    "ExecuteTime": {
     "end_time": "2021-11-30T10:34:04.313961Z",
     "start_time": "2021-11-30T10:34:04.296010Z"
    }
   },
   "outputs": [],
   "source": [
    "'''\n",
    "Drop ID column cause i won't need it for my classification analysis.\n",
    "'''\n",
    "loans.drop(['ID'], axis=1, inplace=True)"
   ]
  },
  {
   "cell_type": "code",
   "execution_count": 38,
   "id": "fb29761f",
   "metadata": {
    "ExecuteTime": {
     "end_time": "2021-11-30T10:34:04.734174Z",
     "start_time": "2021-11-30T10:34:04.592550Z"
    }
   },
   "outputs": [
    {
     "data": {
      "image/png": "[encoded data removed]",
      "text/plain": [
       "<Figure size 720x360 with 1 Axes>"
      ]
     },
     "metadata": {
      "needs_background": "light"
     },
     "output_type": "display_data"
    }
   ],
   "source": [
    "'''\n",
    "Check the dataset and realise that is imbalanced, needs to be fixed with an oversampler.\n",
    "'''\n",
    "loans['Personal Loan'].value_counts().plot.bar(figsize=(10,5), color=(0.2, 0.4, 0.6, 0.6))\n",
    "plt.title(\"Dataset's balance\",size=15)\n",
    "plt.xticks(rotation = 0)\n",
    "plt.ylabel('Count',size=15)\n",
    "plt.xlabel('IDs',size=15)\n",
    "plt.grid(True,axis='y', color='w', linestyle='-', linewidth=1)\n",
    "plt.gca().patch.set_facecolor('0.8')\n",
    "plt.show()"
   ]
  },
  {
   "cell_type": "code",
   "execution_count": 39,
   "id": "58695a39",
   "metadata": {
    "ExecuteTime": {
     "end_time": "2021-11-30T10:34:05.309334Z",
     "start_time": "2021-11-30T10:34:05.252486Z"
    },
    "scrolled": true
   },
   "outputs": [
    {
     "data": {
      "text/html": [
       "<div>\n",
       "<style scoped>\n",
       "    .dataframe tbody tr th:only-of-type {\n",
       "        vertical-align: middle;\n",
       "    }\n",
       "\n",
       "    .dataframe tbody tr th {\n",
       "        vertical-align: top;\n",
       "    }\n",
       "\n",
       "    .dataframe thead th {\n",
       "        text-align: right;\n",
       "    }\n",
       "</style>\n",
       "<table border=\"1\" class=\"dataframe\">\n",
       "  <thead>\n",
       "    <tr style=\"text-align: right;\">\n",
       "      <th></th>\n",
       "      <th>Age</th>\n",
       "      <th>Experience</th>\n",
       "      <th>Income</th>\n",
       "      <th>ZIP Code</th>\n",
       "      <th>Family</th>\n",
       "      <th>CCAvg</th>\n",
       "      <th>Education</th>\n",
       "      <th>Mortgage</th>\n",
       "      <th>Personal Loan</th>\n",
       "      <th>Securities Account</th>\n",
       "      <th>CD Account</th>\n",
       "      <th>Online</th>\n",
       "      <th>CreditCard</th>\n",
       "    </tr>\n",
       "  </thead>\n",
       "  <tbody>\n",
       "    <tr>\n",
       "      <th>count</th>\n",
       "      <td>5000.000000</td>\n",
       "      <td>5000.000000</td>\n",
       "      <td>5000.000000</td>\n",
       "      <td>5000.000000</td>\n",
       "      <td>5000.000000</td>\n",
       "      <td>5000.00000</td>\n",
       "      <td>5000.000000</td>\n",
       "      <td>5000.000000</td>\n",
       "      <td>5000.000000</td>\n",
       "      <td>5000.000000</td>\n",
       "      <td>5000.00000</td>\n",
       "      <td>5000.000000</td>\n",
       "      <td>5000.000000</td>\n",
       "    </tr>\n",
       "    <tr>\n",
       "      <th>mean</th>\n",
       "      <td>45.338400</td>\n",
       "      <td>20.104600</td>\n",
       "      <td>73.774200</td>\n",
       "      <td>93152.503000</td>\n",
       "      <td>2.396400</td>\n",
       "      <td>1937.93800</td>\n",
       "      <td>1.881000</td>\n",
       "      <td>56498.800000</td>\n",
       "      <td>0.096000</td>\n",
       "      <td>0.104400</td>\n",
       "      <td>0.06040</td>\n",
       "      <td>0.596800</td>\n",
       "      <td>0.294000</td>\n",
       "    </tr>\n",
       "    <tr>\n",
       "      <th>std</th>\n",
       "      <td>11.463166</td>\n",
       "      <td>11.467954</td>\n",
       "      <td>46.033729</td>\n",
       "      <td>2121.852197</td>\n",
       "      <td>1.147663</td>\n",
       "      <td>1747.65898</td>\n",
       "      <td>0.839869</td>\n",
       "      <td>101713.802102</td>\n",
       "      <td>0.294621</td>\n",
       "      <td>0.305809</td>\n",
       "      <td>0.23825</td>\n",
       "      <td>0.490589</td>\n",
       "      <td>0.455637</td>\n",
       "    </tr>\n",
       "    <tr>\n",
       "      <th>min</th>\n",
       "      <td>23.000000</td>\n",
       "      <td>-3.000000</td>\n",
       "      <td>8.000000</td>\n",
       "      <td>9307.000000</td>\n",
       "      <td>1.000000</td>\n",
       "      <td>0.00000</td>\n",
       "      <td>1.000000</td>\n",
       "      <td>0.000000</td>\n",
       "      <td>0.000000</td>\n",
       "      <td>0.000000</td>\n",
       "      <td>0.00000</td>\n",
       "      <td>0.000000</td>\n",
       "      <td>0.000000</td>\n",
       "    </tr>\n",
       "    <tr>\n",
       "      <th>25%</th>\n",
       "      <td>35.000000</td>\n",
       "      <td>10.000000</td>\n",
       "      <td>39.000000</td>\n",
       "      <td>91911.000000</td>\n",
       "      <td>1.000000</td>\n",
       "      <td>700.00000</td>\n",
       "      <td>1.000000</td>\n",
       "      <td>0.000000</td>\n",
       "      <td>0.000000</td>\n",
       "      <td>0.000000</td>\n",
       "      <td>0.00000</td>\n",
       "      <td>0.000000</td>\n",
       "      <td>0.000000</td>\n",
       "    </tr>\n",
       "    <tr>\n",
       "      <th>50%</th>\n",
       "      <td>45.000000</td>\n",
       "      <td>20.000000</td>\n",
       "      <td>64.000000</td>\n",
       "      <td>93437.000000</td>\n",
       "      <td>2.000000</td>\n",
       "      <td>1500.00000</td>\n",
       "      <td>2.000000</td>\n",
       "      <td>0.000000</td>\n",
       "      <td>0.000000</td>\n",
       "      <td>0.000000</td>\n",
       "      <td>0.00000</td>\n",
       "      <td>1.000000</td>\n",
       "      <td>0.000000</td>\n",
       "    </tr>\n",
       "    <tr>\n",
       "      <th>75%</th>\n",
       "      <td>55.000000</td>\n",
       "      <td>30.000000</td>\n",
       "      <td>98.000000</td>\n",
       "      <td>94608.000000</td>\n",
       "      <td>3.000000</td>\n",
       "      <td>2500.00000</td>\n",
       "      <td>3.000000</td>\n",
       "      <td>101000.000000</td>\n",
       "      <td>0.000000</td>\n",
       "      <td>0.000000</td>\n",
       "      <td>0.00000</td>\n",
       "      <td>1.000000</td>\n",
       "      <td>1.000000</td>\n",
       "    </tr>\n",
       "    <tr>\n",
       "      <th>max</th>\n",
       "      <td>67.000000</td>\n",
       "      <td>43.000000</td>\n",
       "      <td>224.000000</td>\n",
       "      <td>96651.000000</td>\n",
       "      <td>4.000000</td>\n",
       "      <td>10000.00000</td>\n",
       "      <td>3.000000</td>\n",
       "      <td>635000.000000</td>\n",
       "      <td>1.000000</td>\n",
       "      <td>1.000000</td>\n",
       "      <td>1.00000</td>\n",
       "      <td>1.000000</td>\n",
       "      <td>1.000000</td>\n",
       "    </tr>\n",
       "  </tbody>\n",
       "</table>\n",
       "</div>"
      ],
      "text/plain": [
       "               Age   Experience       Income      ZIP Code       Family  \\\n",
       "count  5000.000000  5000.000000  5000.000000   5000.000000  5000.000000   \n",
       "mean     45.338400    20.104600    73.774200  93152.503000     2.396400   \n",
       "std      11.463166    11.467954    46.033729   2121.852197     1.147663   \n",
       "min      23.000000    -3.000000     8.000000   9307.000000     1.000000   \n",
       "25%      35.000000    10.000000    39.000000  91911.000000     1.000000   \n",
       "50%      45.000000    20.000000    64.000000  93437.000000     2.000000   \n",
       "75%      55.000000    30.000000    98.000000  94608.000000     3.000000   \n",
       "max      67.000000    43.000000   224.000000  96651.000000     4.000000   \n",
       "\n",
       "             CCAvg    Education       Mortgage  Personal Loan  \\\n",
       "count   5000.00000  5000.000000    5000.000000    5000.000000   \n",
       "mean    1937.93800     1.881000   56498.800000       0.096000   \n",
       "std     1747.65898     0.839869  101713.802102       0.294621   \n",
       "min        0.00000     1.000000       0.000000       0.000000   \n",
       "25%      700.00000     1.000000       0.000000       0.000000   \n",
       "50%     1500.00000     2.000000       0.000000       0.000000   \n",
       "75%     2500.00000     3.000000  101000.000000       0.000000   \n",
       "max    10000.00000     3.000000  635000.000000       1.000000   \n",
       "\n",
       "       Securities Account  CD Account       Online   CreditCard  \n",
       "count         5000.000000  5000.00000  5000.000000  5000.000000  \n",
       "mean             0.104400     0.06040     0.596800     0.294000  \n",
       "std              0.305809     0.23825     0.490589     0.455637  \n",
       "min              0.000000     0.00000     0.000000     0.000000  \n",
       "25%              0.000000     0.00000     0.000000     0.000000  \n",
       "50%              0.000000     0.00000     1.000000     0.000000  \n",
       "75%              0.000000     0.00000     1.000000     1.000000  \n",
       "max              1.000000     1.00000     1.000000     1.000000  "
      ]
     },
     "execution_count": 39,
     "metadata": {},
     "output_type": "execute_result"
    }
   ],
   "source": [
    "'''\n",
    "We can see that there are columns with large-scale numbers. We will need to scale the values. \n",
    "'''\n",
    "loans.describe()"
   ]
  },
  {
   "cell_type": "code",
   "execution_count": 41,
   "id": "60f30121",
   "metadata": {
    "ExecuteTime": {
     "end_time": "2021-11-30T10:36:04.732627Z",
     "start_time": "2021-11-30T10:36:04.071364Z"
    }
   },
   "outputs": [
    {
     "data": {
      "image/png": "[encoded data removed]",
      "text/plain": [
       "<Figure size 864x432 with 1 Axes>"
      ]
     },
     "metadata": {
      "needs_background": "light"
     },
     "output_type": "display_data"
    },
    {
     "data": {
      "image/png": "[encoded data removed]",
      "text/plain": [
       "<Figure size 864x432 with 1 Axes>"
      ]
     },
     "metadata": {
      "needs_background": "light"
     },
     "output_type": "display_data"
    }
   ],
   "source": [
    "'''\n",
    "Realise that these two columns are highly skewed.\n",
    "'''\n",
    "for i in [\"CCAvg\", \"Mortgage\"]:\n",
    "    plt.figure(figsize=(12,6))\n",
    "    decline_loan= loans[loans[\"Personal Loan\"]==0]\n",
    "    accept_loan= loans[loans[\"Personal Loan\"]==1]\n",
    "    sns.histplot(decline_loan[i], kde=False, color=(0.2, 0.4, 0.6, 0.6))\n",
    "    sns.histplot(accept_loan[i], kde=False, color=(0.8, 0.8, 0.2, 0.2))\n",
    "    plt.legend([\"Accept loan\", \"Decline loan\"])\n",
    "    plt.grid(True,axis='y', color='w', linestyle='-', linewidth=1)\n",
    "    plt.gca().patch.set_facecolor('0.8')\n",
    "    plt.title(\"Histogram for {}\".format(i))\n",
    "    plt.show()"
   ]
  },
  {
   "cell_type": "code",
   "execution_count": 28,
   "id": "75d58da3",
   "metadata": {
    "ExecuteTime": {
     "end_time": "2021-11-30T10:33:44.780554Z",
     "start_time": "2021-11-30T10:33:44.747641Z"
    }
   },
   "outputs": [],
   "source": [
    "'''\n",
    "Fix the skewness applying np.sqrt transformation to every value.\n",
    "'''\n",
    "loans['CCAvg'] = loans['CCAvg'].apply(lambda x: np.sqrt(x))\n",
    "loans['Mortgage'] = loans['Mortgage'].apply(lambda x: np.sqrt(x))"
   ]
  },
  {
   "cell_type": "code",
   "execution_count": 42,
   "id": "fcd98d7b",
   "metadata": {
    "ExecuteTime": {
     "end_time": "2021-11-30T10:36:50.129266Z",
     "start_time": "2021-11-30T10:36:49.440542Z"
    }
   },
   "outputs": [
    {
     "data": {
      "image/png": "[encoded data removed]",
      "text/plain": [
       "<Figure size 864x432 with 1 Axes>"
      ]
     },
     "metadata": {
      "needs_background": "light"
     },
     "output_type": "display_data"
    },
    {
     "data": {
      "image/png": "[encoded data removed]",
      "text/plain": [
       "<Figure size 864x432 with 1 Axes>"
      ]
     },
     "metadata": {
      "needs_background": "light"
     },
     "output_type": "display_data"
    }
   ],
   "source": [
    "'''\n",
    "It is better but not perfect\n",
    "'''\n",
    "for i in [\"CCAvg\", \"Mortgage\"]:\n",
    "    plt.figure(figsize=(12,6))\n",
    "    decline_loan= loans[loans[\"Personal Loan\"]==0]\n",
    "    accept_loan= loans[loans[\"Personal Loan\"]==1]\n",
    "    sns.histplot(decline_loan[i], kde=False, color=(0.2, 0.4, 0.6, 0.6))\n",
    "    sns.histplot(accept_loan[i], kde=False, color=(0.8, 0.8, 0.2, 0.2))\n",
    "    plt.legend([\"Accept loan\", \"Decline loan\"])\n",
    "    plt.grid(True,axis='y', color='w', linestyle='-', linewidth=1)\n",
    "    plt.gca().patch.set_facecolor('0.8')\n",
    "    plt.title(\"Histogram for {}\".format(i))\n",
    "    plt.show()"
   ]
  },
  {
   "cell_type": "code",
   "execution_count": 43,
   "id": "3771a040",
   "metadata": {
    "ExecuteTime": {
     "end_time": "2021-11-30T10:38:34.682720Z",
     "start_time": "2021-11-30T10:38:34.670711Z"
    }
   },
   "outputs": [],
   "source": [
    "'''\n",
    "Prepare for classification.\n",
    "'''\n",
    "features = loans.drop('Personal Loan', axis=1)\n",
    "target = loans['Personal Loan']"
   ]
  },
  {
   "cell_type": "code",
   "execution_count": 44,
   "id": "e76cc47d",
   "metadata": {
    "ExecuteTime": {
     "end_time": "2021-11-30T10:40:34.008296Z",
     "start_time": "2021-11-30T10:40:33.980371Z"
    }
   },
   "outputs": [],
   "source": [
    "'''\n",
    "Split the features into Training Dataset, Validation Dataset, Test Dataset.\n",
    "'''\n",
    "x_train, x_test, y_train,y_test = train_test_split(features, target,test_size=0.15,random_state=42)\n",
    "x_train, x_val, y_train,y_val = train_test_split(x_train, y_train,test_size=0.15,random_state=42)"
   ]
  },
  {
   "cell_type": "code",
   "execution_count": 45,
   "id": "dea2a418",
   "metadata": {
    "ExecuteTime": {
     "end_time": "2021-11-30T10:40:34.616992Z",
     "start_time": "2021-11-30T10:40:34.605023Z"
    }
   },
   "outputs": [
    {
     "name": "stdout",
     "output_type": "stream",
     "text": [
      "(3612, 12)\n",
      "(3612,)\n",
      "(638, 12)\n",
      "(638,)\n",
      "(750, 12)\n",
      "(750,)\n"
     ]
    }
   ],
   "source": [
    "print(x_train.shape)\n",
    "print(y_train.shape)\n",
    "print(x_val.shape)\n",
    "print(y_val.shape)\n",
    "print(x_test.shape)\n",
    "print(y_test.shape)"
   ]
  },
  {
   "cell_type": "code",
   "execution_count": 46,
   "id": "33cf64aa",
   "metadata": {
    "ExecuteTime": {
     "end_time": "2021-11-30T10:40:35.814171Z",
     "start_time": "2021-11-30T10:40:35.753697Z"
    }
   },
   "outputs": [],
   "source": [
    "'''\n",
    "Fix the imbalance only to training dataset using Adasyn oversampler.\n",
    "'''\n",
    "adasyn = ADASYN()\n",
    "x_adasyn, y_adasyn = adasyn.fit_resample(x_train, y_train)"
   ]
  },
  {
   "cell_type": "code",
   "execution_count": 47,
   "id": "540abda1",
   "metadata": {
    "ExecuteTime": {
     "end_time": "2021-11-30T10:40:37.170738Z",
     "start_time": "2021-11-30T10:40:37.160732Z"
    }
   },
   "outputs": [
    {
     "name": "stdout",
     "output_type": "stream",
     "text": [
      "(6502, 12)\n",
      "(6502,)\n"
     ]
    }
   ],
   "source": [
    "print(x_adasyn.shape)\n",
    "print(y_adasyn.shape)"
   ]
  },
  {
   "cell_type": "code",
   "execution_count": 48,
   "id": "9ee815b6",
   "metadata": {
    "ExecuteTime": {
     "end_time": "2021-11-30T10:42:13.378384Z",
     "start_time": "2021-11-30T10:42:12.599249Z"
    }
   },
   "outputs": [
    {
     "data": {
      "image/png": "[encoded data removed]",
      "text/plain": [
       "<Figure size 864x432 with 1 Axes>"
      ]
     },
     "metadata": {
      "needs_background": "light"
     },
     "output_type": "display_data"
    },
    {
     "data": {
      "image/png": "[encoded data removed]",
      "text/plain": [
       "<Figure size 864x432 with 1 Axes>"
      ]
     },
     "metadata": {
      "needs_background": "light"
     },
     "output_type": "display_data"
    }
   ],
   "source": [
    "'''\n",
    "Merge features with targets after oversampling so as to see the results.\n",
    "Adasyn has done a very good job.\n",
    "'''\n",
    "loans_resampled = x_adasyn.merge(y_adasyn, left_index=True, right_index=True)\n",
    "\n",
    "for i in [\"CCAvg\", \"Mortgage\"]:\n",
    "    plt.figure(figsize=(12,6))\n",
    "    decline_loan= loans_resampled[loans_resampled[\"Personal Loan\"]==0]\n",
    "    accept_loan= loans_resampled[loans_resampled[\"Personal Loan\"]==1]\n",
    "#     sns.set(style = 'darkgrid', palette= 'muted')\n",
    "    sns.histplot(decline_loan[i], kde=False, color=(0.2, 0.4, 0.6, 0.6))\n",
    "    sns.histplot(accept_loan[i], kde=False, color=(0.8, 0.8, 0.2, 0.2))\n",
    "    plt.legend([\"Accept loan\", \"Decline loan\"])\n",
    "    plt.grid(True,axis='y', color='w', linestyle='-', linewidth=1)\n",
    "    plt.gca().patch.set_facecolor('0.8')\n",
    "    plt.title(\"Histogram for {}\".format(i))\n",
    "    plt.show()"
   ]
  },
  {
   "cell_type": "code",
   "execution_count": 49,
   "id": "4fa4d5ad",
   "metadata": {
    "ExecuteTime": {
     "end_time": "2021-11-30T10:43:30.825120Z",
     "start_time": "2021-11-30T10:43:30.789216Z"
    }
   },
   "outputs": [],
   "source": [
    "'''\n",
    "I use MinmaxScaler cause i don't have negative values in my dataset.\n",
    "'''\n",
    "mm = MinMaxScaler()\n",
    "x_train_scaled = mm.fit_transform(x_adasyn)\n",
    "x_val_scaled = mm.transform(x_val)\n",
    "x_test_scaled = mm.transform(x_test)"
   ]
  },
  {
   "cell_type": "code",
   "execution_count": 52,
   "id": "2a204aaf",
   "metadata": {
    "ExecuteTime": {
     "end_time": "2021-11-30T10:43:54.238818Z",
     "start_time": "2021-11-30T10:43:54.233831Z"
    }
   },
   "outputs": [
    {
     "data": {
      "text/plain": [
       "(12,)"
      ]
     },
     "execution_count": 52,
     "metadata": {},
     "output_type": "execute_result"
    }
   ],
   "source": [
    "(x_train_scaled.shape[1],)"
   ]
  },
  {
   "cell_type": "code",
   "execution_count": 51,
   "id": "1c6f4ce3",
   "metadata": {
    "ExecuteTime": {
     "end_time": "2021-11-30T10:43:51.917835Z",
     "start_time": "2021-11-30T10:43:51.889910Z"
    },
    "scrolled": true
   },
   "outputs": [
    {
     "data": {
      "text/html": [
       "<div>\n",
       "<style scoped>\n",
       "    .dataframe tbody tr th:only-of-type {\n",
       "        vertical-align: middle;\n",
       "    }\n",
       "\n",
       "    .dataframe tbody tr th {\n",
       "        vertical-align: top;\n",
       "    }\n",
       "\n",
       "    .dataframe thead th {\n",
       "        text-align: right;\n",
       "    }\n",
       "</style>\n",
       "<table border=\"1\" class=\"dataframe\">\n",
       "  <thead>\n",
       "    <tr style=\"text-align: right;\">\n",
       "      <th></th>\n",
       "      <th>0</th>\n",
       "      <th>1</th>\n",
       "      <th>2</th>\n",
       "      <th>3</th>\n",
       "      <th>4</th>\n",
       "      <th>5</th>\n",
       "      <th>6</th>\n",
       "      <th>7</th>\n",
       "      <th>8</th>\n",
       "      <th>9</th>\n",
       "      <th>10</th>\n",
       "      <th>11</th>\n",
       "    </tr>\n",
       "  </thead>\n",
       "  <tbody>\n",
       "    <tr>\n",
       "      <th>0</th>\n",
       "      <td>0.613636</td>\n",
       "      <td>0.565217</td>\n",
       "      <td>0.357143</td>\n",
       "      <td>0.944358</td>\n",
       "      <td>0.000000</td>\n",
       "      <td>0.267</td>\n",
       "      <td>0.5</td>\n",
       "      <td>0.000000</td>\n",
       "      <td>0.0</td>\n",
       "      <td>1.0</td>\n",
       "      <td>1.0</td>\n",
       "      <td>1.0</td>\n",
       "    </tr>\n",
       "    <tr>\n",
       "      <th>1</th>\n",
       "      <td>0.500000</td>\n",
       "      <td>0.521739</td>\n",
       "      <td>0.242857</td>\n",
       "      <td>0.977697</td>\n",
       "      <td>0.333333</td>\n",
       "      <td>0.250</td>\n",
       "      <td>0.0</td>\n",
       "      <td>0.251216</td>\n",
       "      <td>0.0</td>\n",
       "      <td>0.0</td>\n",
       "      <td>1.0</td>\n",
       "      <td>0.0</td>\n",
       "    </tr>\n",
       "    <tr>\n",
       "      <th>2</th>\n",
       "      <td>0.318182</td>\n",
       "      <td>0.304348</td>\n",
       "      <td>0.066667</td>\n",
       "      <td>0.924254</td>\n",
       "      <td>0.666667</td>\n",
       "      <td>0.010</td>\n",
       "      <td>0.5</td>\n",
       "      <td>0.184765</td>\n",
       "      <td>0.0</td>\n",
       "      <td>0.0</td>\n",
       "      <td>0.0</td>\n",
       "      <td>0.0</td>\n",
       "    </tr>\n",
       "    <tr>\n",
       "      <th>3</th>\n",
       "      <td>0.068182</td>\n",
       "      <td>0.108696</td>\n",
       "      <td>0.204762</td>\n",
       "      <td>0.947930</td>\n",
       "      <td>1.000000</td>\n",
       "      <td>0.260</td>\n",
       "      <td>0.0</td>\n",
       "      <td>0.000000</td>\n",
       "      <td>0.0</td>\n",
       "      <td>0.0</td>\n",
       "      <td>1.0</td>\n",
       "      <td>0.0</td>\n",
       "    </tr>\n",
       "    <tr>\n",
       "      <th>4</th>\n",
       "      <td>0.363636</td>\n",
       "      <td>0.391304</td>\n",
       "      <td>0.257143</td>\n",
       "      <td>0.969134</td>\n",
       "      <td>1.000000</td>\n",
       "      <td>0.240</td>\n",
       "      <td>0.0</td>\n",
       "      <td>0.139384</td>\n",
       "      <td>0.0</td>\n",
       "      <td>0.0</td>\n",
       "      <td>0.0</td>\n",
       "      <td>0.0</td>\n",
       "    </tr>\n",
       "  </tbody>\n",
       "</table>\n",
       "</div>"
      ],
      "text/plain": [
       "         0         1         2         3         4      5    6         7   \\\n",
       "0  0.613636  0.565217  0.357143  0.944358  0.000000  0.267  0.5  0.000000   \n",
       "1  0.500000  0.521739  0.242857  0.977697  0.333333  0.250  0.0  0.251216   \n",
       "2  0.318182  0.304348  0.066667  0.924254  0.666667  0.010  0.5  0.184765   \n",
       "3  0.068182  0.108696  0.204762  0.947930  1.000000  0.260  0.0  0.000000   \n",
       "4  0.363636  0.391304  0.257143  0.969134  1.000000  0.240  0.0  0.139384   \n",
       "\n",
       "    8    9    10   11  \n",
       "0  0.0  1.0  1.0  1.0  \n",
       "1  0.0  0.0  1.0  0.0  \n",
       "2  0.0  0.0  0.0  0.0  \n",
       "3  0.0  0.0  1.0  0.0  \n",
       "4  0.0  0.0  0.0  0.0  "
      ]
     },
     "execution_count": 51,
     "metadata": {},
     "output_type": "execute_result"
    }
   ],
   "source": [
    "pd.DataFrame(x_train_scaled).head()"
   ]
  },
  {
   "cell_type": "code",
   "execution_count": 53,
   "id": "5079d20c",
   "metadata": {
    "ExecuteTime": {
     "end_time": "2021-11-30T10:45:18.676794Z",
     "start_time": "2021-11-30T10:45:18.659809Z"
    }
   },
   "outputs": [],
   "source": [
    "tf.random.set_seed(13)"
   ]
  },
  {
   "cell_type": "code",
   "execution_count": 64,
   "id": "8e752425",
   "metadata": {
    "ExecuteTime": {
     "end_time": "2021-11-30T10:56:15.196750Z",
     "start_time": "2021-11-30T10:55:59.560742Z"
    },
    "scrolled": true
   },
   "outputs": [
    {
     "name": "stdout",
     "output_type": "stream",
     "text": [
      "Model: \"sequential_1\"\n",
      "_________________________________________________________________\n",
      "Layer (type)                 Output Shape              Param #   \n",
      "=================================================================\n",
      "dense_3 (Dense)              (None, 128)               1664      \n",
      "_________________________________________________________________\n",
      "dropout_2 (Dropout)          (None, 128)               0         \n",
      "_________________________________________________________________\n",
      "dense_4 (Dense)              (None, 64)                8256      \n",
      "_________________________________________________________________\n",
      "dropout_3 (Dropout)          (None, 64)                0         \n",
      "_________________________________________________________________\n",
      "dense_5 (Dense)              (None, 1)                 65        \n",
      "=================================================================\n",
      "Total params: 9,985\n",
      "Trainable params: 9,985\n",
      "Non-trainable params: 0\n",
      "_________________________________________________________________\n",
      "Epoch 1/45\n",
      "204/204 [==============================] - 1s 2ms/step - loss: 0.4241 - accuracy: 0.8173 - val_loss: 0.2423 - val_accuracy: 0.8997\n",
      "Epoch 2/45\n",
      "204/204 [==============================] - 0s 2ms/step - loss: 0.2163 - accuracy: 0.9149 - val_loss: 0.1577 - val_accuracy: 0.9326\n",
      "Epoch 3/45\n",
      "204/204 [==============================] - 0s 2ms/step - loss: 0.1778 - accuracy: 0.9234 - val_loss: 0.1569 - val_accuracy: 0.9310\n",
      "Epoch 4/45\n",
      "204/204 [==============================] - 0s 2ms/step - loss: 0.1647 - accuracy: 0.9279 - val_loss: 0.1065 - val_accuracy: 0.9624\n",
      "Epoch 5/45\n",
      "204/204 [==============================] - 0s 1ms/step - loss: 0.1582 - accuracy: 0.9303 - val_loss: 0.1408 - val_accuracy: 0.9451\n",
      "Epoch 6/45\n",
      "204/204 [==============================] - 0s 2ms/step - loss: 0.1452 - accuracy: 0.9380 - val_loss: 0.1145 - val_accuracy: 0.9561\n",
      "Epoch 7/45\n",
      "204/204 [==============================] - 0s 2ms/step - loss: 0.1397 - accuracy: 0.9368 - val_loss: 0.1181 - val_accuracy: 0.9561\n",
      "Epoch 8/45\n",
      "204/204 [==============================] - 0s 2ms/step - loss: 0.1384 - accuracy: 0.9414 - val_loss: 0.1263 - val_accuracy: 0.9561\n",
      "Epoch 9/45\n",
      "204/204 [==============================] - 0s 2ms/step - loss: 0.1325 - accuracy: 0.9412 - val_loss: 0.1086 - val_accuracy: 0.9624\n",
      "Epoch 10/45\n",
      "204/204 [==============================] - 0s 1ms/step - loss: 0.1355 - accuracy: 0.9423 - val_loss: 0.1379 - val_accuracy: 0.9404\n",
      "Epoch 11/45\n",
      "204/204 [==============================] - 0s 2ms/step - loss: 0.1304 - accuracy: 0.9434 - val_loss: 0.1174 - val_accuracy: 0.9530\n",
      "Epoch 12/45\n",
      "204/204 [==============================] - 0s 2ms/step - loss: 0.1306 - accuracy: 0.9428 - val_loss: 0.1349 - val_accuracy: 0.9451\n",
      "Epoch 13/45\n",
      "204/204 [==============================] - 0s 2ms/step - loss: 0.1334 - accuracy: 0.9429 - val_loss: 0.1012 - val_accuracy: 0.9639\n",
      "Epoch 14/45\n",
      "204/204 [==============================] - 0s 2ms/step - loss: 0.1312 - accuracy: 0.9411 - val_loss: 0.1239 - val_accuracy: 0.9498\n",
      "Epoch 15/45\n",
      "204/204 [==============================] - 0s 2ms/step - loss: 0.1304 - accuracy: 0.9405 - val_loss: 0.1106 - val_accuracy: 0.9624\n",
      "Epoch 16/45\n",
      "204/204 [==============================] - 0s 2ms/step - loss: 0.1282 - accuracy: 0.9436 - val_loss: 0.1111 - val_accuracy: 0.9530\n",
      "Epoch 17/45\n",
      "204/204 [==============================] - 0s 2ms/step - loss: 0.1265 - accuracy: 0.9446 - val_loss: 0.1202 - val_accuracy: 0.9514\n",
      "Epoch 18/45\n",
      "204/204 [==============================] - 0s 2ms/step - loss: 0.1211 - accuracy: 0.9468 - val_loss: 0.1275 - val_accuracy: 0.9514\n",
      "Epoch 19/45\n",
      "204/204 [==============================] - 0s 2ms/step - loss: 0.1265 - accuracy: 0.9442 - val_loss: 0.1219 - val_accuracy: 0.9498\n",
      "Epoch 20/45\n",
      "204/204 [==============================] - 0s 2ms/step - loss: 0.1238 - accuracy: 0.9446 - val_loss: 0.1037 - val_accuracy: 0.9561\n",
      "Epoch 21/45\n",
      "204/204 [==============================] - 0s 2ms/step - loss: 0.1239 - accuracy: 0.9426 - val_loss: 0.1219 - val_accuracy: 0.9530\n",
      "Epoch 22/45\n",
      "204/204 [==============================] - 0s 2ms/step - loss: 0.1239 - accuracy: 0.9463 - val_loss: 0.1166 - val_accuracy: 0.9608\n",
      "Epoch 23/45\n",
      "204/204 [==============================] - 0s 2ms/step - loss: 0.1198 - accuracy: 0.9468 - val_loss: 0.1213 - val_accuracy: 0.9483\n",
      "Epoch 24/45\n",
      "204/204 [==============================] - 0s 2ms/step - loss: 0.1190 - accuracy: 0.9459 - val_loss: 0.1075 - val_accuracy: 0.9608\n",
      "Epoch 25/45\n",
      "204/204 [==============================] - 0s 2ms/step - loss: 0.1211 - accuracy: 0.9443 - val_loss: 0.1084 - val_accuracy: 0.9624\n",
      "Epoch 26/45\n",
      "204/204 [==============================] - 0s 2ms/step - loss: 0.1185 - accuracy: 0.9476 - val_loss: 0.0953 - val_accuracy: 0.9655\n",
      "Epoch 27/45\n",
      "204/204 [==============================] - 0s 2ms/step - loss: 0.1208 - accuracy: 0.9476 - val_loss: 0.1118 - val_accuracy: 0.9592\n",
      "Epoch 28/45\n",
      "204/204 [==============================] - 0s 2ms/step - loss: 0.1156 - accuracy: 0.9479 - val_loss: 0.1066 - val_accuracy: 0.9577\n",
      "Epoch 29/45\n",
      "204/204 [==============================] - 0s 2ms/step - loss: 0.1184 - accuracy: 0.9460 - val_loss: 0.1312 - val_accuracy: 0.9436\n",
      "Epoch 30/45\n",
      "204/204 [==============================] - 0s 2ms/step - loss: 0.1171 - accuracy: 0.9476 - val_loss: 0.1096 - val_accuracy: 0.9608\n",
      "Epoch 31/45\n",
      "204/204 [==============================] - 0s 2ms/step - loss: 0.1149 - accuracy: 0.9491 - val_loss: 0.1213 - val_accuracy: 0.9483\n",
      "Epoch 32/45\n",
      "204/204 [==============================] - 0s 2ms/step - loss: 0.1168 - accuracy: 0.9469 - val_loss: 0.1070 - val_accuracy: 0.9608\n",
      "Epoch 33/45\n",
      "204/204 [==============================] - 0s 2ms/step - loss: 0.1188 - accuracy: 0.9477 - val_loss: 0.0938 - val_accuracy: 0.9655\n",
      "Epoch 34/45\n",
      "204/204 [==============================] - 0s 2ms/step - loss: 0.1184 - accuracy: 0.9452 - val_loss: 0.1066 - val_accuracy: 0.9639\n",
      "Epoch 35/45\n",
      "204/204 [==============================] - 0s 2ms/step - loss: 0.1137 - accuracy: 0.9489 - val_loss: 0.1087 - val_accuracy: 0.9577\n",
      "Epoch 36/45\n",
      "204/204 [==============================] - 0s 2ms/step - loss: 0.1132 - accuracy: 0.9492 - val_loss: 0.0945 - val_accuracy: 0.9655\n",
      "Epoch 37/45\n",
      "204/204 [==============================] - 0s 2ms/step - loss: 0.1102 - accuracy: 0.9522 - val_loss: 0.1258 - val_accuracy: 0.9467\n",
      "Epoch 38/45\n",
      "204/204 [==============================] - 0s 2ms/step - loss: 0.1113 - accuracy: 0.9483 - val_loss: 0.1131 - val_accuracy: 0.9545\n",
      "Epoch 39/45\n",
      "204/204 [==============================] - 0s 2ms/step - loss: 0.1092 - accuracy: 0.9532 - val_loss: 0.1018 - val_accuracy: 0.9592\n",
      "Epoch 40/45\n",
      "204/204 [==============================] - 0s 2ms/step - loss: 0.1117 - accuracy: 0.9505 - val_loss: 0.1157 - val_accuracy: 0.9545\n",
      "Epoch 41/45\n",
      "204/204 [==============================] - 0s 2ms/step - loss: 0.1115 - accuracy: 0.9511 - val_loss: 0.0920 - val_accuracy: 0.9655\n",
      "Epoch 42/45\n",
      "204/204 [==============================] - 0s 2ms/step - loss: 0.1097 - accuracy: 0.9503 - val_loss: 0.1152 - val_accuracy: 0.9577\n",
      "Epoch 43/45\n",
      "204/204 [==============================] - 0s 2ms/step - loss: 0.1107 - accuracy: 0.9499 - val_loss: 0.1262 - val_accuracy: 0.9451\n",
      "Epoch 44/45\n",
      "204/204 [==============================] - 0s 2ms/step - loss: 0.1098 - accuracy: 0.9512 - val_loss: 0.1067 - val_accuracy: 0.9592\n",
      "Epoch 45/45\n",
      "204/204 [==============================] - 0s 2ms/step - loss: 0.1105 - accuracy: 0.9492 - val_loss: 0.0913 - val_accuracy: 0.9639\n",
      "24/24 [==============================] - ETA: 0s - loss: 0.1809 - accuracy: 0.90 - 0s 1ms/step - loss: 0.0934 - accuracy: 0.9573\n",
      "loss=0.09337819367647171, acc=0.9573333263397217\n"
     ]
    }
   ],
   "source": [
    "input_shape=(x_train_scaled.shape[1],)\n",
    "\n",
    "model = tf.keras.Sequential(\n",
    "      [Dense(128, activation=\"relu\",input_shape = input_shape),\n",
    "       Dropout(0.2),\n",
    "       Dense(64, activation=\"relu\"),\n",
    "       Dropout(0.2),\n",
    "       Dense(1, activation=\"sigmoid\"),\n",
    "      ]\n",
    "  )\n",
    "model.summary()\n",
    "reduce_lr = ReduceLROnPlateau(monitor='val_loss', factor=0.05, patience=2, min_lr=0.0005)\n",
    "model.compile(loss='binary_crossentropy', optimizer='adam', metrics=['accuracy'])\n",
    "history = model.fit(x_train_scaled, y_adasyn,\n",
    "        epochs=45,\n",
    "        validation_data=(x_val_scaled,y_val),\n",
    "        callbacks=[reduce_lr],\n",
    "        shuffle=True\n",
    "         )\n",
    "score = model.evaluate(x_test_scaled, y_test)\n",
    "print('loss={}, acc={}'.format(score[0],score[1]))"
   ]
  },
  {
   "cell_type": "code",
   "execution_count": 65,
   "id": "c8dc178e",
   "metadata": {
    "ExecuteTime": {
     "end_time": "2021-11-30T10:56:18.231911Z",
     "start_time": "2021-11-30T10:56:18.209969Z"
    }
   },
   "outputs": [
    {
     "data": {
      "text/html": [
       "<div>\n",
       "<style scoped>\n",
       "    .dataframe tbody tr th:only-of-type {\n",
       "        vertical-align: middle;\n",
       "    }\n",
       "\n",
       "    .dataframe tbody tr th {\n",
       "        vertical-align: top;\n",
       "    }\n",
       "\n",
       "    .dataframe thead th {\n",
       "        text-align: right;\n",
       "    }\n",
       "</style>\n",
       "<table border=\"1\" class=\"dataframe\">\n",
       "  <thead>\n",
       "    <tr style=\"text-align: right;\">\n",
       "      <th></th>\n",
       "      <th>loss</th>\n",
       "      <th>accuracy</th>\n",
       "      <th>val_loss</th>\n",
       "      <th>val_accuracy</th>\n",
       "      <th>lr</th>\n",
       "      <th>epoch</th>\n",
       "    </tr>\n",
       "  </thead>\n",
       "  <tbody>\n",
       "    <tr>\n",
       "      <th>0</th>\n",
       "      <td>0.424088</td>\n",
       "      <td>0.817287</td>\n",
       "      <td>0.242345</td>\n",
       "      <td>0.899687</td>\n",
       "      <td>0.001</td>\n",
       "      <td>0</td>\n",
       "    </tr>\n",
       "    <tr>\n",
       "      <th>1</th>\n",
       "      <td>0.216257</td>\n",
       "      <td>0.914949</td>\n",
       "      <td>0.157690</td>\n",
       "      <td>0.932602</td>\n",
       "      <td>0.001</td>\n",
       "      <td>1</td>\n",
       "    </tr>\n",
       "    <tr>\n",
       "      <th>2</th>\n",
       "      <td>0.177838</td>\n",
       "      <td>0.923408</td>\n",
       "      <td>0.156936</td>\n",
       "      <td>0.931035</td>\n",
       "      <td>0.001</td>\n",
       "      <td>2</td>\n",
       "    </tr>\n",
       "    <tr>\n",
       "      <th>3</th>\n",
       "      <td>0.164667</td>\n",
       "      <td>0.927868</td>\n",
       "      <td>0.106542</td>\n",
       "      <td>0.962382</td>\n",
       "      <td>0.001</td>\n",
       "      <td>3</td>\n",
       "    </tr>\n",
       "    <tr>\n",
       "      <th>4</th>\n",
       "      <td>0.158188</td>\n",
       "      <td>0.930329</td>\n",
       "      <td>0.140791</td>\n",
       "      <td>0.945141</td>\n",
       "      <td>0.001</td>\n",
       "      <td>4</td>\n",
       "    </tr>\n",
       "  </tbody>\n",
       "</table>\n",
       "</div>"
      ],
      "text/plain": [
       "       loss  accuracy  val_loss  val_accuracy     lr  epoch\n",
       "0  0.424088  0.817287  0.242345      0.899687  0.001      0\n",
       "1  0.216257  0.914949  0.157690      0.932602  0.001      1\n",
       "2  0.177838  0.923408  0.156936      0.931035  0.001      2\n",
       "3  0.164667  0.927868  0.106542      0.962382  0.001      3\n",
       "4  0.158188  0.930329  0.140791      0.945141  0.001      4"
      ]
     },
     "execution_count": 65,
     "metadata": {},
     "output_type": "execute_result"
    }
   ],
   "source": [
    "hist = pd.DataFrame(history.history)\n",
    "hist['epoch'] = history.epoch\n",
    "hist.head()"
   ]
  },
  {
   "cell_type": "code",
   "execution_count": 66,
   "id": "096f7a7f",
   "metadata": {
    "ExecuteTime": {
     "end_time": "2021-11-30T10:56:19.648346Z",
     "start_time": "2021-11-30T10:56:19.458851Z"
    }
   },
   "outputs": [
    {
     "data": {
      "image/png": "[encoded data removed]",
      "text/plain": [
       "<Figure size 1080x576 with 1 Axes>"
      ]
     },
     "metadata": {
      "needs_background": "light"
     },
     "output_type": "display_data"
    }
   ],
   "source": [
    "plt.figure(figsize=(15,8))\n",
    "plt.plot(history.history['accuracy'], color='y')\n",
    "plt.plot(history.history['val_accuracy'], color=(0.2, 0.4, 0.6, 0.6))\n",
    "plt.title('Keras Model Accurancy',size=20)\n",
    "plt.ylabel('Accurancy',size=20)\n",
    "plt.xlabel('Epoch',size=20)\n",
    "plt.grid(True,axis='y', color='w', linestyle='-', linewidth=1)\n",
    "plt.gca().patch.set_facecolor('0.8')\n",
    "plt.legend(['Train', 'Cross Validation'],fontsize='x-large', loc='lower right')\n",
    "plt.show()"
   ]
  },
  {
   "cell_type": "code",
   "execution_count": 67,
   "id": "44d75871",
   "metadata": {
    "ExecuteTime": {
     "end_time": "2021-11-30T10:56:21.556641Z",
     "start_time": "2021-11-30T10:56:21.381832Z"
    },
    "scrolled": true
   },
   "outputs": [
    {
     "data": {
      "image/png": "[encoded data removed]",
      "text/plain": [
       "<Figure size 1080x576 with 1 Axes>"
      ]
     },
     "metadata": {
      "needs_background": "light"
     },
     "output_type": "display_data"
    }
   ],
   "source": [
    "plt.figure(figsize=(15,8))\n",
    "plt.plot(history.history['loss'], color='red')\n",
    "plt.plot(history.history['val_loss'], color=(0.2, 0.4, 0.6, 0.6))\n",
    "plt.title('Keras Model Loss',size=20)\n",
    "plt.ylabel('Loss',size=20)\n",
    "plt.xlabel('Epoch',size=20)\n",
    "plt.grid(True,axis='y', color='w', linestyle='-', linewidth=1)\n",
    "plt.gca().patch.set_facecolor('0.8')\n",
    "plt.legend(['Train', 'Cross Validation'],fontsize='x-large', loc='upper right')\n",
    "plt.show()"
   ]
  },
  {
   "cell_type": "code",
   "execution_count": 83,
   "id": "2e4b13ae",
   "metadata": {
    "ExecuteTime": {
     "end_time": "2021-11-30T11:00:52.777682Z",
     "start_time": "2021-11-30T11:00:52.523205Z"
    },
    "scrolled": false
   },
   "outputs": [
    {
     "data": {
      "image/png": "[encoded data removed]",
      "text/plain": [
       "<Figure size 576x576 with 2 Axes>"
      ]
     },
     "metadata": {
      "needs_background": "light"
     },
     "output_type": "display_data"
    }
   ],
   "source": [
    "'''\n",
    "Plot a heatmap in order to see the correct and wrong classifications.\n",
    "'''\n",
    "fig, ax=plt.subplots(figsize=(8,8))\n",
    "predict_results = model.predict(x_test_scaled)\n",
    "predict_results = (predict_results >0.5)\n",
    "cm = confusion_matrix(y_test, predict_results)\n",
    "sns.heatmap(cm,\n",
    "            fmt='.0f',\n",
    "            linewidths=0.1,\n",
    "            linecolor='gray',\n",
    "            annot=True,\n",
    "            ax=ax)\n",
    "ax.set_xlabel('Predicted labels')\n",
    "ax.set_ylabel('True labels')\n",
    "ax.set_title('Confusion Matrix')\n",
    "ax.xaxis.set_ticklabels(['Positive', 'Negative'])\n",
    "ax.yaxis.set_ticklabels(['True', 'False'])\n",
    "plt.show()"
   ]
  },
  {
   "cell_type": "code",
   "execution_count": 69,
   "id": "d6a841bd",
   "metadata": {
    "ExecuteTime": {
     "end_time": "2021-11-30T10:56:27.183822Z",
     "start_time": "2021-11-30T10:56:27.174846Z"
    }
   },
   "outputs": [],
   "source": [
    "'''\n",
    "Tak a sample of 750 values.\n",
    "'''\n",
    "background = x_train_scaled[np.random.choice(x_train_scaled.shape[0], 750, replace=False)]"
   ]
  },
  {
   "cell_type": "code",
   "execution_count": 84,
   "id": "b9d695e9",
   "metadata": {
    "ExecuteTime": {
     "end_time": "2021-11-30T11:02:40.426452Z",
     "start_time": "2021-11-30T11:02:36.464943Z"
    },
    "scrolled": false
   },
   "outputs": [
    {
     "name": "stderr",
     "output_type": "stream",
     "text": [
      "Your TensorFlow version is newer than 2.4.0 and so graph support has been removed in eager mode. See PR #1483 for discussion.\n",
      "`tf.keras.backend.set_learning_phase` is deprecated and will be removed after 2020-10-11. To update it, simply pass a True/False value to the `training` argument of the `__call__` method of your layer or model.\n"
     ]
    }
   ],
   "source": [
    "'''\n",
    "Apply DeepExplainer to see which feautures affected most for the results.\n",
    "'''\n",
    "cols = list(features.columns)\n",
    "explainer = shap.DeepExplainer(model,  background)\n",
    "shap_values = explainer.shap_values(x_test_scaled)"
   ]
  },
  {
   "cell_type": "code",
   "execution_count": 85,
   "id": "a0e0fe4d",
   "metadata": {
    "ExecuteTime": {
     "end_time": "2021-11-30T11:02:40.912162Z",
     "start_time": "2021-11-30T11:02:40.892215Z"
    }
   },
   "outputs": [
    {
     "data": {
      "text/plain": [
       "(750, 12)"
      ]
     },
     "execution_count": 85,
     "metadata": {},
     "output_type": "execute_result"
    }
   ],
   "source": [
    "shap_values[0].shape"
   ]
  },
  {
   "cell_type": "code",
   "execution_count": 88,
   "id": "b411f182",
   "metadata": {
    "ExecuteTime": {
     "end_time": "2021-11-30T11:03:08.956283Z",
     "start_time": "2021-11-30T11:03:08.944315Z"
    }
   },
   "outputs": [],
   "source": [
    "shap_df = pd.DataFrame(shap_values[0], columns=cols)"
   ]
  },
  {
   "cell_type": "code",
   "execution_count": 95,
   "id": "72093aef",
   "metadata": {
    "ExecuteTime": {
     "end_time": "2021-11-30T11:04:33.000488Z",
     "start_time": "2021-11-30T11:04:32.975553Z"
    }
   },
   "outputs": [
    {
     "data": {
      "text/html": [
       "<div>\n",
       "<style scoped>\n",
       "    .dataframe tbody tr th:only-of-type {\n",
       "        vertical-align: middle;\n",
       "    }\n",
       "\n",
       "    .dataframe tbody tr th {\n",
       "        vertical-align: top;\n",
       "    }\n",
       "\n",
       "    .dataframe thead th {\n",
       "        text-align: right;\n",
       "    }\n",
       "</style>\n",
       "<table border=\"1\" class=\"dataframe\">\n",
       "  <thead>\n",
       "    <tr style=\"text-align: right;\">\n",
       "      <th></th>\n",
       "      <th>Age</th>\n",
       "      <th>Experience</th>\n",
       "      <th>Income</th>\n",
       "      <th>ZIP Code</th>\n",
       "      <th>Family</th>\n",
       "      <th>CCAvg</th>\n",
       "      <th>Education</th>\n",
       "      <th>Mortgage</th>\n",
       "      <th>Securities Account</th>\n",
       "      <th>CD Account</th>\n",
       "      <th>Online</th>\n",
       "      <th>CreditCard</th>\n",
       "    </tr>\n",
       "  </thead>\n",
       "  <tbody>\n",
       "    <tr>\n",
       "      <th>0</th>\n",
       "      <td>0.008934</td>\n",
       "      <td>-0.001787</td>\n",
       "      <td>-0.290917</td>\n",
       "      <td>0.001284</td>\n",
       "      <td>0.007369</td>\n",
       "      <td>-0.090327</td>\n",
       "      <td>0.004278</td>\n",
       "      <td>0.004006</td>\n",
       "      <td>-0.100050</td>\n",
       "      <td>-0.010550</td>\n",
       "      <td>0.026977</td>\n",
       "      <td>-0.042768</td>\n",
       "    </tr>\n",
       "    <tr>\n",
       "      <th>1</th>\n",
       "      <td>0.008994</td>\n",
       "      <td>0.006934</td>\n",
       "      <td>0.261221</td>\n",
       "      <td>0.000634</td>\n",
       "      <td>0.110962</td>\n",
       "      <td>0.093620</td>\n",
       "      <td>-0.006957</td>\n",
       "      <td>-0.000836</td>\n",
       "      <td>0.021371</td>\n",
       "      <td>-0.008902</td>\n",
       "      <td>0.074503</td>\n",
       "      <td>-0.048972</td>\n",
       "    </tr>\n",
       "    <tr>\n",
       "      <th>2</th>\n",
       "      <td>-0.065366</td>\n",
       "      <td>-0.037368</td>\n",
       "      <td>0.053009</td>\n",
       "      <td>-0.004142</td>\n",
       "      <td>-0.003267</td>\n",
       "      <td>0.048637</td>\n",
       "      <td>-0.177917</td>\n",
       "      <td>-0.090990</td>\n",
       "      <td>0.011703</td>\n",
       "      <td>-0.030489</td>\n",
       "      <td>-0.044163</td>\n",
       "      <td>0.051300</td>\n",
       "    </tr>\n",
       "    <tr>\n",
       "      <th>3</th>\n",
       "      <td>0.003958</td>\n",
       "      <td>0.005036</td>\n",
       "      <td>-0.188483</td>\n",
       "      <td>-0.003956</td>\n",
       "      <td>-0.008849</td>\n",
       "      <td>-0.062552</td>\n",
       "      <td>-0.046591</td>\n",
       "      <td>0.002820</td>\n",
       "      <td>-0.142977</td>\n",
       "      <td>-0.015824</td>\n",
       "      <td>-0.039086</td>\n",
       "      <td>0.012956</td>\n",
       "    </tr>\n",
       "    <tr>\n",
       "      <th>4</th>\n",
       "      <td>-0.018876</td>\n",
       "      <td>-0.001949</td>\n",
       "      <td>-0.366250</td>\n",
       "      <td>-0.002532</td>\n",
       "      <td>-0.004156</td>\n",
       "      <td>-0.078332</td>\n",
       "      <td>0.003134</td>\n",
       "      <td>-0.000664</td>\n",
       "      <td>0.003396</td>\n",
       "      <td>-0.012638</td>\n",
       "      <td>-0.014022</td>\n",
       "      <td>0.009337</td>\n",
       "    </tr>\n",
       "  </tbody>\n",
       "</table>\n",
       "</div>"
      ],
      "text/plain": [
       "        Age  Experience    Income  ZIP Code    Family     CCAvg  Education  \\\n",
       "0  0.008934   -0.001787 -0.290917  0.001284  0.007369 -0.090327   0.004278   \n",
       "1  0.008994    0.006934  0.261221  0.000634  0.110962  0.093620  -0.006957   \n",
       "2 -0.065366   -0.037368  0.053009 -0.004142 -0.003267  0.048637  -0.177917   \n",
       "3  0.003958    0.005036 -0.188483 -0.003956 -0.008849 -0.062552  -0.046591   \n",
       "4 -0.018876   -0.001949 -0.366250 -0.002532 -0.004156 -0.078332   0.003134   \n",
       "\n",
       "   Mortgage  Securities Account  CD Account    Online  CreditCard  \n",
       "0  0.004006           -0.100050   -0.010550  0.026977   -0.042768  \n",
       "1 -0.000836            0.021371   -0.008902  0.074503   -0.048972  \n",
       "2 -0.090990            0.011703   -0.030489 -0.044163    0.051300  \n",
       "3  0.002820           -0.142977   -0.015824 -0.039086    0.012956  \n",
       "4 -0.000664            0.003396   -0.012638 -0.014022    0.009337  "
      ]
     },
     "execution_count": 95,
     "metadata": {},
     "output_type": "execute_result"
    }
   ],
   "source": [
    "shap_df.head()"
   ]
  },
  {
   "cell_type": "code",
   "execution_count": 94,
   "id": "965c7507",
   "metadata": {
    "ExecuteTime": {
     "end_time": "2021-11-30T11:04:08.005838Z",
     "start_time": "2021-11-30T11:04:07.991852Z"
    }
   },
   "outputs": [
    {
     "data": {
      "text/plain": [
       "(750, 12)"
      ]
     },
     "execution_count": 94,
     "metadata": {},
     "output_type": "execute_result"
    }
   ],
   "source": [
    "shap_df.shape"
   ]
  },
  {
   "cell_type": "code",
   "execution_count": 91,
   "id": "02abbcca",
   "metadata": {
    "ExecuteTime": {
     "end_time": "2021-11-30T11:03:27.572724Z",
     "start_time": "2021-11-30T11:03:27.558761Z"
    }
   },
   "outputs": [],
   "source": [
    "background_df = pd.DataFrame(background, columns=cols)"
   ]
  },
  {
   "cell_type": "code",
   "execution_count": 96,
   "id": "4016b130",
   "metadata": {
    "ExecuteTime": {
     "end_time": "2021-11-30T11:04:43.463039Z",
     "start_time": "2021-11-30T11:04:43.441098Z"
    }
   },
   "outputs": [
    {
     "data": {
      "text/html": [
       "<div>\n",
       "<style scoped>\n",
       "    .dataframe tbody tr th:only-of-type {\n",
       "        vertical-align: middle;\n",
       "    }\n",
       "\n",
       "    .dataframe tbody tr th {\n",
       "        vertical-align: top;\n",
       "    }\n",
       "\n",
       "    .dataframe thead th {\n",
       "        text-align: right;\n",
       "    }\n",
       "</style>\n",
       "<table border=\"1\" class=\"dataframe\">\n",
       "  <thead>\n",
       "    <tr style=\"text-align: right;\">\n",
       "      <th></th>\n",
       "      <th>Age</th>\n",
       "      <th>Experience</th>\n",
       "      <th>Income</th>\n",
       "      <th>ZIP Code</th>\n",
       "      <th>Family</th>\n",
       "      <th>CCAvg</th>\n",
       "      <th>Education</th>\n",
       "      <th>Mortgage</th>\n",
       "      <th>Securities Account</th>\n",
       "      <th>CD Account</th>\n",
       "      <th>Online</th>\n",
       "      <th>CreditCard</th>\n",
       "    </tr>\n",
       "  </thead>\n",
       "  <tbody>\n",
       "    <tr>\n",
       "      <th>0</th>\n",
       "      <td>0.295455</td>\n",
       "      <td>0.260870</td>\n",
       "      <td>0.538095</td>\n",
       "      <td>0.944484</td>\n",
       "      <td>0.666667</td>\n",
       "      <td>0.223855</td>\n",
       "      <td>0.5</td>\n",
       "      <td>0.000000</td>\n",
       "      <td>0.0</td>\n",
       "      <td>0.0</td>\n",
       "      <td>0.0</td>\n",
       "      <td>0.0</td>\n",
       "    </tr>\n",
       "    <tr>\n",
       "      <th>1</th>\n",
       "      <td>0.477273</td>\n",
       "      <td>0.500000</td>\n",
       "      <td>0.585714</td>\n",
       "      <td>0.932062</td>\n",
       "      <td>0.000000</td>\n",
       "      <td>0.490000</td>\n",
       "      <td>1.0</td>\n",
       "      <td>0.000000</td>\n",
       "      <td>0.0</td>\n",
       "      <td>0.0</td>\n",
       "      <td>1.0</td>\n",
       "      <td>0.0</td>\n",
       "    </tr>\n",
       "    <tr>\n",
       "      <th>2</th>\n",
       "      <td>0.295455</td>\n",
       "      <td>0.282609</td>\n",
       "      <td>0.833333</td>\n",
       "      <td>0.985082</td>\n",
       "      <td>0.333333</td>\n",
       "      <td>0.000000</td>\n",
       "      <td>0.0</td>\n",
       "      <td>0.000000</td>\n",
       "      <td>0.0</td>\n",
       "      <td>0.0</td>\n",
       "      <td>0.0</td>\n",
       "      <td>0.0</td>\n",
       "    </tr>\n",
       "    <tr>\n",
       "      <th>3</th>\n",
       "      <td>0.409091</td>\n",
       "      <td>0.434783</td>\n",
       "      <td>0.161905</td>\n",
       "      <td>0.945720</td>\n",
       "      <td>1.000000</td>\n",
       "      <td>0.220000</td>\n",
       "      <td>0.5</td>\n",
       "      <td>0.299838</td>\n",
       "      <td>1.0</td>\n",
       "      <td>0.0</td>\n",
       "      <td>1.0</td>\n",
       "      <td>0.0</td>\n",
       "    </tr>\n",
       "    <tr>\n",
       "      <th>4</th>\n",
       "      <td>0.863636</td>\n",
       "      <td>0.826087</td>\n",
       "      <td>0.142857</td>\n",
       "      <td>0.958303</td>\n",
       "      <td>0.333333</td>\n",
       "      <td>0.100000</td>\n",
       "      <td>1.0</td>\n",
       "      <td>0.000000</td>\n",
       "      <td>0.0</td>\n",
       "      <td>0.0</td>\n",
       "      <td>0.0</td>\n",
       "      <td>0.0</td>\n",
       "    </tr>\n",
       "  </tbody>\n",
       "</table>\n",
       "</div>"
      ],
      "text/plain": [
       "        Age  Experience    Income  ZIP Code    Family     CCAvg  Education  \\\n",
       "0  0.295455    0.260870  0.538095  0.944484  0.666667  0.223855        0.5   \n",
       "1  0.477273    0.500000  0.585714  0.932062  0.000000  0.490000        1.0   \n",
       "2  0.295455    0.282609  0.833333  0.985082  0.333333  0.000000        0.0   \n",
       "3  0.409091    0.434783  0.161905  0.945720  1.000000  0.220000        0.5   \n",
       "4  0.863636    0.826087  0.142857  0.958303  0.333333  0.100000        1.0   \n",
       "\n",
       "   Mortgage  Securities Account  CD Account  Online  CreditCard  \n",
       "0  0.000000                 0.0         0.0     0.0         0.0  \n",
       "1  0.000000                 0.0         0.0     1.0         0.0  \n",
       "2  0.000000                 0.0         0.0     0.0         0.0  \n",
       "3  0.299838                 1.0         0.0     1.0         0.0  \n",
       "4  0.000000                 0.0         0.0     0.0         0.0  "
      ]
     },
     "execution_count": 96,
     "metadata": {},
     "output_type": "execute_result"
    }
   ],
   "source": [
    "background_df.head()"
   ]
  },
  {
   "cell_type": "code",
   "execution_count": 93,
   "id": "7545e832",
   "metadata": {
    "ExecuteTime": {
     "end_time": "2021-11-30T11:03:56.752581Z",
     "start_time": "2021-11-30T11:03:56.740614Z"
    }
   },
   "outputs": [
    {
     "data": {
      "text/plain": [
       "(750, 12)"
      ]
     },
     "execution_count": 93,
     "metadata": {},
     "output_type": "execute_result"
    }
   ],
   "source": [
    "background_df.shape"
   ]
  },
  {
   "cell_type": "code",
   "execution_count": 78,
   "id": "482ae39b",
   "metadata": {
    "ExecuteTime": {
     "end_time": "2021-11-30T10:57:27.118580Z",
     "start_time": "2021-11-30T10:57:26.907606Z"
    }
   },
   "outputs": [
    {
     "data": {
      "image/png": "[encoded data removed]",
      "text/plain": [
       "<Figure size 576x453.6 with 1 Axes>"
      ]
     },
     "metadata": {
      "needs_background": "light"
     },
     "output_type": "display_data"
    }
   ],
   "source": [
    "'''\n",
    "Feauture of income affected the most.\n",
    "'''\n",
    "shap.summary_plot(shap_df,\n",
    "                  background_df,\n",
    "                  show=True,\n",
    "                  plot_type=\"bar\",\n",
    "                  axis_color='black',\n",
    "                 cmap='BlueRed')"
   ]
  },
  {
   "cell_type": "code",
   "execution_count": 99,
   "id": "8a0b4d59",
   "metadata": {
    "ExecuteTime": {
     "end_time": "2021-11-30T11:06:39.945729Z",
     "start_time": "2021-11-30T11:06:39.852875Z"
    }
   },
   "outputs": [
    {
     "data": {
      "text/plain": [
       "array([[1.60848685e-08],\n",
       "       [9.96124148e-01],\n",
       "       [1.94498807e-01],\n",
       "       [4.88905835e-06],\n",
       "       [9.93282327e-08],\n",
       "       [6.56574965e-04],\n",
       "       [2.87616938e-01],\n",
       "       [2.12213397e-03],\n",
       "       [6.57847352e-07],\n",
       "       [1.14396363e-01],\n",
       "       [1.56327857e-07],\n",
       "       [1.43199049e-05],\n",
       "       [4.13488448e-02],\n",
       "       [1.66888040e-05],\n",
       "       [7.84473479e-01],\n",
       "       [7.78077483e-01],\n",
       "       [1.27246976e-03],\n",
       "       [2.11451083e-01],\n",
       "       [9.55313681e-07],\n",
       "       [9.99998569e-01],\n",
       "       [3.28551515e-08],\n",
       "       [6.77795351e-01],\n",
       "       [8.75085592e-03],\n",
       "       [1.52857602e-02],\n",
       "       [1.75381945e-06],\n",
       "       [1.17964209e-05],\n",
       "       [2.48797678e-05],\n",
       "       [2.65646487e-01],\n",
       "       [9.67142582e-02],\n",
       "       [8.94546509e-04],\n",
       "       [1.93692088e-01],\n",
       "       [5.25667621e-10],\n",
       "       [9.99591112e-01],\n",
       "       [1.31711364e-03],\n",
       "       [2.51591337e-06],\n",
       "       [7.73757984e-06],\n",
       "       [1.09120083e-05],\n",
       "       [3.03434972e-05],\n",
       "       [9.82261481e-05],\n",
       "       [4.14291378e-07],\n",
       "       [1.45680929e-07],\n",
       "       [6.14315271e-04],\n",
       "       [9.33568239e-01],\n",
       "       [2.95874476e-03],\n",
       "       [4.49665293e-07],\n",
       "       [3.82155180e-04],\n",
       "       [4.23125457e-05],\n",
       "       [3.44657898e-03],\n",
       "       [1.43201470e-01],\n",
       "       [1.02451702e-06],\n",
       "       [1.24216080e-04],\n",
       "       [9.97144997e-01],\n",
       "       [5.56558371e-03],\n",
       "       [1.03506744e-01],\n",
       "       [8.35077286e-01],\n",
       "       [2.35977473e-06],\n",
       "       [6.98700547e-03],\n",
       "       [1.12269760e-07],\n",
       "       [6.47845724e-08],\n",
       "       [1.98073328e-01],\n",
       "       [6.70441270e-01],\n",
       "       [4.59144750e-10],\n",
       "       [6.61033337e-05],\n",
       "       [1.81293488e-03],\n",
       "       [1.84119051e-06],\n",
       "       [1.17909643e-07],\n",
       "       [1.35831924e-05],\n",
       "       [9.99803305e-01],\n",
       "       [1.69605017e-04],\n",
       "       [1.78148571e-06],\n",
       "       [8.46112072e-02],\n",
       "       [8.61372058e-08],\n",
       "       [1.10356957e-01],\n",
       "       [1.60125107e-01],\n",
       "       [3.28570604e-04],\n",
       "       [1.43550244e-06],\n",
       "       [1.63137913e-04],\n",
       "       [2.10027656e-06],\n",
       "       [1.90135179e-05],\n",
       "       [6.27262780e-05],\n",
       "       [1.61780089e-01],\n",
       "       [2.57726103e-01],\n",
       "       [4.25399363e-01],\n",
       "       [1.80998445e-03],\n",
       "       [8.13599909e-05],\n",
       "       [3.39100040e-07],\n",
       "       [6.23742089e-05],\n",
       "       [5.23260297e-08],\n",
       "       [2.82503743e-06],\n",
       "       [6.56731891e-06],\n",
       "       [1.94824576e-01],\n",
       "       [1.32648168e-07],\n",
       "       [3.21745872e-03],\n",
       "       [1.11267127e-06],\n",
       "       [6.46002591e-02],\n",
       "       [1.41890526e-01],\n",
       "       [1.58579235e-06],\n",
       "       [9.98222470e-01],\n",
       "       [2.34006663e-08],\n",
       "       [4.80708366e-07],\n",
       "       [8.34783912e-03],\n",
       "       [3.14622035e-08],\n",
       "       [5.37958783e-07],\n",
       "       [9.01760936e-01],\n",
       "       [5.57373369e-06],\n",
       "       [8.30233097e-04],\n",
       "       [1.13662309e-05],\n",
       "       [7.50660896e-03],\n",
       "       [6.04525012e-05],\n",
       "       [1.16583536e-07],\n",
       "       [1.11107949e-10],\n",
       "       [5.15750051e-03],\n",
       "       [3.60329352e-07],\n",
       "       [1.33178502e-01],\n",
       "       [8.59774590e-01],\n",
       "       [6.23404980e-04],\n",
       "       [8.82820430e-08],\n",
       "       [4.23240662e-03],\n",
       "       [6.71973825e-03],\n",
       "       [1.06710759e-04],\n",
       "       [1.06776810e-08],\n",
       "       [1.76787376e-04],\n",
       "       [1.38140142e-01],\n",
       "       [9.99115348e-01],\n",
       "       [7.59280056e-06],\n",
       "       [2.21530468e-06],\n",
       "       [2.62141228e-04],\n",
       "       [2.61753798e-03],\n",
       "       [2.88475057e-08],\n",
       "       [9.98682976e-01],\n",
       "       [5.23052514e-01],\n",
       "       [5.12161851e-03],\n",
       "       [3.88777465e-07],\n",
       "       [9.99708176e-01],\n",
       "       [3.05996291e-05],\n",
       "       [2.89291143e-04],\n",
       "       [1.89806223e-02],\n",
       "       [1.15412877e-04],\n",
       "       [1.80129780e-06],\n",
       "       [2.97150660e-08],\n",
       "       [1.19698575e-06],\n",
       "       [9.99421716e-01],\n",
       "       [1.17196156e-04],\n",
       "       [3.59014933e-07],\n",
       "       [6.14339113e-03],\n",
       "       [3.41379291e-06],\n",
       "       [2.05487013e-04],\n",
       "       [1.06000507e-05],\n",
       "       [5.03453970e-01],\n",
       "       [5.26351130e-07],\n",
       "       [3.35425138e-04],\n",
       "       [4.49237159e-05],\n",
       "       [6.07744122e-09],\n",
       "       [1.32138431e-02],\n",
       "       [9.41283762e-01],\n",
       "       [1.62199140e-03],\n",
       "       [4.07523885e-07],\n",
       "       [1.19156209e-06],\n",
       "       [2.41361777e-05],\n",
       "       [3.86169553e-03],\n",
       "       [1.79582105e-06],\n",
       "       [1.22319864e-06],\n",
       "       [1.75822973e-02],\n",
       "       [9.99319315e-01],\n",
       "       [9.98358011e-01],\n",
       "       [1.93560281e-05],\n",
       "       [6.02830414e-06],\n",
       "       [1.93649530e-03],\n",
       "       [5.75854778e-02],\n",
       "       [9.83755817e-05],\n",
       "       [7.58415945e-06],\n",
       "       [4.70717459e-05],\n",
       "       [8.26765390e-05],\n",
       "       [9.99298692e-01],\n",
       "       [1.75295168e-06],\n",
       "       [2.21147445e-07],\n",
       "       [1.98853982e-08],\n",
       "       [1.38135802e-05],\n",
       "       [5.60573220e-01],\n",
       "       [3.66297364e-01],\n",
       "       [3.40499878e-01],\n",
       "       [1.95473433e-04],\n",
       "       [1.48488283e-02],\n",
       "       [2.88435817e-03],\n",
       "       [1.67908329e-05],\n",
       "       [3.55639207e-09],\n",
       "       [1.41616729e-05],\n",
       "       [9.98169661e-01],\n",
       "       [1.91973953e-07],\n",
       "       [8.12170148e-01],\n",
       "       [9.99801636e-01],\n",
       "       [1.56814473e-09],\n",
       "       [2.20547845e-05],\n",
       "       [5.08742630e-02],\n",
       "       [1.12662613e-02],\n",
       "       [2.31430988e-07],\n",
       "       [5.33478856e-02],\n",
       "       [9.99990702e-01],\n",
       "       [8.45720383e-09],\n",
       "       [4.48226956e-06],\n",
       "       [9.65087565e-06],\n",
       "       [2.42482722e-02],\n",
       "       [9.23474727e-05],\n",
       "       [9.99980807e-01],\n",
       "       [9.99314189e-01],\n",
       "       [9.75827873e-01],\n",
       "       [1.69867320e-07],\n",
       "       [8.99803325e-08],\n",
       "       [4.17321920e-04],\n",
       "       [4.74870205e-04],\n",
       "       [9.91415799e-01],\n",
       "       [6.56650689e-09],\n",
       "       [5.57310614e-06],\n",
       "       [1.50144100e-04],\n",
       "       [2.68953357e-07],\n",
       "       [4.74928765e-06],\n",
       "       [7.13099798e-05],\n",
       "       [1.20473956e-07],\n",
       "       [1.23497852e-08],\n",
       "       [4.62267371e-06],\n",
       "       [1.63853168e-04],\n",
       "       [6.31362200e-03],\n",
       "       [1.16089277e-05],\n",
       "       [5.46216011e-01],\n",
       "       [2.58300133e-07],\n",
       "       [3.12212110e-02],\n",
       "       [5.19489825e-01],\n",
       "       [9.83529210e-01],\n",
       "       [7.43431010e-05],\n",
       "       [3.88371944e-03],\n",
       "       [1.38472319e-02],\n",
       "       [4.03801687e-06],\n",
       "       [2.60755369e-05],\n",
       "       [2.07142657e-05],\n",
       "       [3.56815219e-01],\n",
       "       [9.99917209e-01],\n",
       "       [5.89962256e-05],\n",
       "       [1.01159221e-05],\n",
       "       [1.43301487e-03],\n",
       "       [3.72071725e-07],\n",
       "       [5.84839063e-06],\n",
       "       [1.22928834e-09],\n",
       "       [6.24063194e-01],\n",
       "       [1.39945951e-06],\n",
       "       [2.96773970e-01],\n",
       "       [7.23020133e-09],\n",
       "       [9.99272883e-01],\n",
       "       [1.08765960e-02],\n",
       "       [1.72985494e-02],\n",
       "       [1.55553337e-07],\n",
       "       [3.41868699e-02],\n",
       "       [2.85879736e-07],\n",
       "       [9.99995410e-01],\n",
       "       [2.68632039e-06],\n",
       "       [2.66718715e-01],\n",
       "       [1.10600677e-05],\n",
       "       [1.13250858e-08],\n",
       "       [2.71575749e-02],\n",
       "       [1.07750714e-01],\n",
       "       [6.15832960e-07],\n",
       "       [7.40852833e-01],\n",
       "       [1.24633312e-04],\n",
       "       [9.99998331e-01],\n",
       "       [5.03906608e-03],\n",
       "       [2.08202839e-01],\n",
       "       [8.40264559e-03],\n",
       "       [1.98173523e-03],\n",
       "       [9.76155102e-01],\n",
       "       [1.36464834e-04],\n",
       "       [7.04736813e-05],\n",
       "       [6.54743459e-09],\n",
       "       [1.87124312e-02],\n",
       "       [3.80317289e-09],\n",
       "       [9.17746782e-01],\n",
       "       [9.99950767e-01],\n",
       "       [6.03272438e-01],\n",
       "       [5.02974444e-07],\n",
       "       [2.15500593e-04],\n",
       "       [1.66698068e-01],\n",
       "       [1.55947208e-02],\n",
       "       [9.55816795e-05],\n",
       "       [2.88377196e-01],\n",
       "       [6.92155957e-03],\n",
       "       [8.25536251e-03],\n",
       "       [9.74014370e-07],\n",
       "       [1.33312778e-06],\n",
       "       [3.40658128e-01],\n",
       "       [9.76093769e-01],\n",
       "       [2.62228809e-06],\n",
       "       [4.60504293e-02],\n",
       "       [4.14287449e-09],\n",
       "       [4.57823575e-02],\n",
       "       [2.45958567e-04],\n",
       "       [6.71963846e-07],\n",
       "       [1.45793915e-01],\n",
       "       [9.16318641e-07],\n",
       "       [1.03998843e-07],\n",
       "       [1.52062078e-08],\n",
       "       [4.15883108e-07],\n",
       "       [2.62750626e-01],\n",
       "       [1.83105469e-04],\n",
       "       [2.44605758e-08],\n",
       "       [2.31515756e-07],\n",
       "       [9.98512089e-01],\n",
       "       [1.62407756e-03],\n",
       "       [1.55704367e-06],\n",
       "       [6.94948170e-08],\n",
       "       [1.04560328e-07],\n",
       "       [7.15153801e-05],\n",
       "       [3.48901958e-05],\n",
       "       [3.46280217e-07],\n",
       "       [1.38104260e-02],\n",
       "       [5.76855540e-02],\n",
       "       [2.47019529e-03],\n",
       "       [3.82017419e-07],\n",
       "       [1.05747581e-03],\n",
       "       [2.94417143e-04],\n",
       "       [1.16183699e-04],\n",
       "       [9.29814577e-03],\n",
       "       [8.71989596e-06],\n",
       "       [1.77865841e-05],\n",
       "       [3.42889194e-07],\n",
       "       [1.37746334e-04],\n",
       "       [2.51828624e-07],\n",
       "       [7.21043348e-03],\n",
       "       [2.57648298e-06],\n",
       "       [1.57978468e-06],\n",
       "       [1.10885501e-02],\n",
       "       [7.78889656e-03],\n",
       "       [2.22682953e-02],\n",
       "       [2.35885382e-04],\n",
       "       [6.68427128e-06],\n",
       "       [5.83559275e-04],\n",
       "       [1.47890702e-07],\n",
       "       [6.34759303e-08],\n",
       "       [1.58170151e-05],\n",
       "       [9.98175740e-01],\n",
       "       [3.81887039e-05],\n",
       "       [3.37397456e-02],\n",
       "       [2.19224616e-09],\n",
       "       [5.12341830e-05],\n",
       "       [1.62386894e-03],\n",
       "       [1.94522738e-03],\n",
       "       [6.53849065e-06],\n",
       "       [2.30647897e-11],\n",
       "       [1.53273344e-04],\n",
       "       [7.69273174e-05],\n",
       "       [9.99908626e-01],\n",
       "       [8.67509298e-05],\n",
       "       [4.03845570e-06],\n",
       "       [2.17988010e-08],\n",
       "       [5.20609035e-07],\n",
       "       [2.09912658e-03],\n",
       "       [4.95275259e-01],\n",
       "       [5.76089323e-02],\n",
       "       [1.02201397e-04],\n",
       "       [2.54005194e-04],\n",
       "       [7.27206469e-03],\n",
       "       [7.64294299e-08],\n",
       "       [4.14942026e-01],\n",
       "       [7.59236455e-01],\n",
       "       [9.90641713e-01],\n",
       "       [2.55253911e-03],\n",
       "       [2.73282552e-07],\n",
       "       [5.34713268e-04],\n",
       "       [6.57248802e-06],\n",
       "       [9.85165025e-05],\n",
       "       [8.92174212e-05],\n",
       "       [8.65815043e-01],\n",
       "       [8.38488340e-04],\n",
       "       [9.37872589e-01],\n",
       "       [4.83107865e-02],\n",
       "       [6.45226181e-01],\n",
       "       [7.49289989e-04],\n",
       "       [4.49421018e-01],\n",
       "       [1.92962489e-06],\n",
       "       [1.41750434e-06],\n",
       "       [9.99081850e-01],\n",
       "       [2.83958400e-07],\n",
       "       [2.31464416e-01],\n",
       "       [1.47881394e-07],\n",
       "       [9.99959230e-01],\n",
       "       [2.67135203e-10],\n",
       "       [9.99593019e-01],\n",
       "       [6.11720679e-06],\n",
       "       [2.93880701e-04],\n",
       "       [5.81835002e-06],\n",
       "       [9.31883619e-07],\n",
       "       [9.31284467e-06],\n",
       "       [1.78896755e-07],\n",
       "       [5.78237680e-10],\n",
       "       [9.83441532e-01],\n",
       "       [5.77378607e-08],\n",
       "       [6.94472462e-08],\n",
       "       [9.98132944e-01],\n",
       "       [9.99534369e-01],\n",
       "       [5.29572129e-01],\n",
       "       [3.44747305e-03],\n",
       "       [1.07596270e-05],\n",
       "       [2.10245787e-07],\n",
       "       [3.62136364e-01],\n",
       "       [2.08953023e-03],\n",
       "       [9.99997258e-01],\n",
       "       [3.95538308e-07],\n",
       "       [3.60032022e-02],\n",
       "       [7.50810705e-06],\n",
       "       [7.61989795e-05],\n",
       "       [3.14880208e-06],\n",
       "       [1.28892064e-03],\n",
       "       [2.75868388e-05],\n",
       "       [1.05277759e-05],\n",
       "       [1.34446618e-05],\n",
       "       [8.49705935e-01],\n",
       "       [3.74074152e-05],\n",
       "       [1.36581957e-02],\n",
       "       [4.55343638e-08],\n",
       "       [2.92110443e-03],\n",
       "       [2.46415548e-05],\n",
       "       [3.24022812e-06],\n",
       "       [9.99911666e-01],\n",
       "       [2.77069211e-03],\n",
       "       [1.02557838e-02],\n",
       "       [6.61006197e-05],\n",
       "       [9.95448863e-05],\n",
       "       [5.79848574e-06],\n",
       "       [3.08448307e-07],\n",
       "       [7.77044892e-03],\n",
       "       [1.81496143e-04],\n",
       "       [7.86689753e-08],\n",
       "       [9.86101583e-08],\n",
       "       [3.87415685e-06],\n",
       "       [6.42891526e-01],\n",
       "       [3.47642481e-01],\n",
       "       [1.08673871e-02],\n",
       "       [1.29225850e-03],\n",
       "       [6.76680866e-05],\n",
       "       [2.85518169e-03],\n",
       "       [2.07275152e-03],\n",
       "       [1.60455704e-04],\n",
       "       [3.26209748e-09],\n",
       "       [7.62015581e-04],\n",
       "       [1.87520968e-07],\n",
       "       [9.99924362e-01],\n",
       "       [6.62745879e-05],\n",
       "       [6.55266413e-05],\n",
       "       [8.46028328e-04],\n",
       "       [6.48241699e-01],\n",
       "       [1.84158034e-06],\n",
       "       [1.44981444e-02],\n",
       "       [8.90750925e-07],\n",
       "       [9.40273702e-02],\n",
       "       [2.17179239e-01],\n",
       "       [5.79416752e-04],\n",
       "       [4.74051767e-08],\n",
       "       [6.24647796e-01],\n",
       "       [9.99987960e-01],\n",
       "       [1.01676583e-03],\n",
       "       [2.09903805e-09],\n",
       "       [8.35400105e-01],\n",
       "       [1.55779719e-03],\n",
       "       [2.08100559e-07],\n",
       "       [6.22553489e-05],\n",
       "       [1.12817426e-04],\n",
       "       [5.51405647e-05],\n",
       "       [3.86536241e-01],\n",
       "       [9.25722725e-06],\n",
       "       [5.78500590e-07],\n",
       "       [3.67489457e-03],\n",
       "       [9.98975396e-01],\n",
       "       [4.86190200e-01],\n",
       "       [2.11347640e-02],\n",
       "       [9.80046630e-01],\n",
       "       [1.88603522e-07],\n",
       "       [1.74666297e-07],\n",
       "       [2.41731923e-09],\n",
       "       [1.67824000e-01],\n",
       "       [4.31895436e-10],\n",
       "       [7.82171341e-08],\n",
       "       [9.63222980e-03],\n",
       "       [3.43251850e-06],\n",
       "       [1.82575494e-01],\n",
       "       [3.39478254e-04],\n",
       "       [3.51515046e-05],\n",
       "       [1.75109506e-02],\n",
       "       [1.10447407e-03],\n",
       "       [2.06644254e-05],\n",
       "       [6.21191866e-05],\n",
       "       [7.91758299e-04],\n",
       "       [9.15711496e-07],\n",
       "       [7.51444936e-01],\n",
       "       [7.89175153e-01],\n",
       "       [4.98354435e-04],\n",
       "       [8.43430917e-06],\n",
       "       [3.71324660e-08],\n",
       "       [1.74349129e-01],\n",
       "       [2.21544504e-03],\n",
       "       [2.49938756e-01],\n",
       "       [1.94564402e-01],\n",
       "       [6.92480899e-05],\n",
       "       [4.09745212e-07],\n",
       "       [1.16107464e-02],\n",
       "       [8.20110872e-05],\n",
       "       [1.22885297e-06],\n",
       "       [9.99674857e-01],\n",
       "       [1.92761034e-01],\n",
       "       [9.99978125e-01],\n",
       "       [2.91401267e-01],\n",
       "       [4.38024813e-07],\n",
       "       [6.42030926e-08],\n",
       "       [1.37120485e-04],\n",
       "       [1.22514311e-05],\n",
       "       [2.14903251e-09],\n",
       "       [2.81028777e-01],\n",
       "       [4.53829765e-04],\n",
       "       [7.31162727e-02],\n",
       "       [1.35261334e-05],\n",
       "       [5.26503181e-11],\n",
       "       [2.31612717e-07],\n",
       "       [5.58790922e-01],\n",
       "       [1.22720599e-02],\n",
       "       [1.14291717e-04],\n",
       "       [4.17025194e-06],\n",
       "       [1.05597973e-02],\n",
       "       [5.66381004e-07],\n",
       "       [1.48375321e-08],\n",
       "       [1.61051303e-01],\n",
       "       [4.46766615e-04],\n",
       "       [9.99825358e-01],\n",
       "       [2.23285079e-09],\n",
       "       [1.37102604e-02],\n",
       "       [3.30358744e-04],\n",
       "       [2.72842973e-01],\n",
       "       [1.66108421e-05],\n",
       "       [3.52994967e-08],\n",
       "       [1.70705616e-02],\n",
       "       [5.42710125e-01],\n",
       "       [3.08562487e-01],\n",
       "       [5.13092855e-05],\n",
       "       [5.05679369e-01],\n",
       "       [5.55514887e-08],\n",
       "       [6.69313795e-06],\n",
       "       [4.69463170e-02],\n",
       "       [1.20991339e-04],\n",
       "       [7.29645789e-02],\n",
       "       [2.25443837e-05],\n",
       "       [3.42813939e-01],\n",
       "       [3.33458185e-04],\n",
       "       [6.66766287e-09],\n",
       "       [9.04352504e-08],\n",
       "       [8.59677792e-04],\n",
       "       [3.06695700e-04],\n",
       "       [2.26122721e-09],\n",
       "       [9.08356547e-01],\n",
       "       [2.88595438e-01],\n",
       "       [2.53778696e-03],\n",
       "       [3.32389176e-02],\n",
       "       [6.14565611e-03],\n",
       "       [5.78647263e-09],\n",
       "       [1.79375112e-01],\n",
       "       [4.00543213e-04],\n",
       "       [6.52810741e-07],\n",
       "       [2.06342037e-08],\n",
       "       [1.90496987e-08],\n",
       "       [2.10433573e-05],\n",
       "       [2.45350236e-07],\n",
       "       [2.86161900e-04],\n",
       "       [5.94868993e-07],\n",
       "       [4.36583917e-07],\n",
       "       [9.99890685e-01],\n",
       "       [5.24294279e-08],\n",
       "       [2.18574246e-06],\n",
       "       [4.56629756e-09],\n",
       "       [2.53263116e-03],\n",
       "       [8.43507308e-08],\n",
       "       [1.05176598e-01],\n",
       "       [2.78868377e-02],\n",
       "       [3.73073906e-01],\n",
       "       [2.60147452e-03],\n",
       "       [7.60937546e-05],\n",
       "       [5.72383404e-04],\n",
       "       [6.29546957e-06],\n",
       "       [6.84534243e-08],\n",
       "       [1.19977612e-05],\n",
       "       [3.74227762e-04],\n",
       "       [1.63997299e-07],\n",
       "       [1.95352428e-07],\n",
       "       [1.14572947e-06],\n",
       "       [1.82208121e-01],\n",
       "       [3.45272124e-02],\n",
       "       [4.70058438e-07],\n",
       "       [5.16849605e-06],\n",
       "       [8.64028931e-04],\n",
       "       [9.96062815e-01],\n",
       "       [6.04521556e-05],\n",
       "       [3.45200300e-04],\n",
       "       [5.41391673e-05],\n",
       "       [1.70831420e-08],\n",
       "       [8.25757265e-01],\n",
       "       [8.71692391e-05],\n",
       "       [3.08621228e-01],\n",
       "       [1.27468079e-01],\n",
       "       [3.00649107e-02],\n",
       "       [5.32929897e-02],\n",
       "       [2.79476490e-06],\n",
       "       [4.85468332e-09],\n",
       "       [1.34399428e-07],\n",
       "       [4.53114510e-04],\n",
       "       [1.45268623e-05],\n",
       "       [5.83483097e-06],\n",
       "       [1.34145182e-06],\n",
       "       [1.11834903e-04],\n",
       "       [6.79910779e-02],\n",
       "       [1.17305404e-04],\n",
       "       [8.83937048e-07],\n",
       "       [4.08944379e-06],\n",
       "       [8.82118940e-04],\n",
       "       [3.17616141e-05],\n",
       "       [2.97171474e-02],\n",
       "       [7.59023130e-02],\n",
       "       [2.15709806e-09],\n",
       "       [5.11625242e-10],\n",
       "       [2.65362655e-06],\n",
       "       [9.99620438e-01],\n",
       "       [6.90221786e-04],\n",
       "       [2.23171711e-03],\n",
       "       [9.99960661e-01],\n",
       "       [5.95441607e-09],\n",
       "       [1.87872201e-01],\n",
       "       [5.35467267e-03],\n",
       "       [1.89945411e-07],\n",
       "       [5.22554636e-01],\n",
       "       [9.12986575e-09],\n",
       "       [6.97963198e-09],\n",
       "       [6.50204311e-05],\n",
       "       [5.79864979e-02],\n",
       "       [5.85767084e-05],\n",
       "       [1.70997021e-06],\n",
       "       [1.05704309e-07],\n",
       "       [9.94708031e-08],\n",
       "       [5.10359428e-07],\n",
       "       [9.99634266e-01],\n",
       "       [9.55030009e-06],\n",
       "       [2.10195780e-04],\n",
       "       [4.36264287e-07],\n",
       "       [6.47731724e-07],\n",
       "       [7.56624341e-03],\n",
       "       [1.06083678e-06],\n",
       "       [7.04556704e-04],\n",
       "       [3.91671711e-05],\n",
       "       [9.56970692e-01],\n",
       "       [8.82310360e-06],\n",
       "       [1.79579854e-02],\n",
       "       [5.96913381e-08],\n",
       "       [2.17984805e-07],\n",
       "       [9.85297084e-01],\n",
       "       [3.45333695e-09],\n",
       "       [6.47635716e-06],\n",
       "       [9.99993682e-01],\n",
       "       [9.43830014e-11],\n",
       "       [9.99678314e-01],\n",
       "       [5.33998013e-04],\n",
       "       [1.11296564e-01],\n",
       "       [9.92964625e-01],\n",
       "       [9.70726614e-06],\n",
       "       [5.49244874e-07],\n",
       "       [7.70483780e-07],\n",
       "       [6.13839646e-08],\n",
       "       [1.93936825e-01],\n",
       "       [7.16465875e-05],\n",
       "       [5.33829407e-05],\n",
       "       [7.34449168e-06],\n",
       "       [5.20108567e-10],\n",
       "       [2.80913413e-02],\n",
       "       [9.58701491e-01],\n",
       "       [1.11011467e-08],\n",
       "       [1.79570913e-02],\n",
       "       [5.04992902e-01],\n",
       "       [1.09062225e-01],\n",
       "       [1.35230720e-02],\n",
       "       [7.66207449e-07],\n",
       "       [1.82639997e-05],\n",
       "       [9.97542884e-06],\n",
       "       [5.27964872e-09],\n",
       "       [9.55592692e-02],\n",
       "       [9.98133898e-01],\n",
       "       [3.66336703e-02],\n",
       "       [3.25914962e-09],\n",
       "       [1.57928616e-01],\n",
       "       [9.98963892e-01],\n",
       "       [6.70533180e-02],\n",
       "       [4.21580195e-01],\n",
       "       [2.92599201e-04],\n",
       "       [3.36972028e-01],\n",
       "       [1.88550030e-06],\n",
       "       [2.07853317e-03],\n",
       "       [4.67351720e-06],\n",
       "       [2.46408604e-06],\n",
       "       [2.61849095e-07],\n",
       "       [9.97544289e-01],\n",
       "       [9.34731960e-03],\n",
       "       [7.02941563e-08],\n",
       "       [5.24461269e-04],\n",
       "       [3.13753112e-08],\n",
       "       [1.28000638e-10],\n",
       "       [7.58165406e-05],\n",
       "       [2.10143458e-08],\n",
       "       [2.32511788e-08],\n",
       "       [9.98907447e-01],\n",
       "       [1.01684028e-09],\n",
       "       [5.54302335e-03],\n",
       "       [3.48348320e-02],\n",
       "       [1.30185790e-05],\n",
       "       [4.67131576e-06],\n",
       "       [9.99689937e-01],\n",
       "       [9.53010676e-05],\n",
       "       [3.20072770e-02],\n",
       "       [8.19146633e-04],\n",
       "       [1.65886140e-05],\n",
       "       [4.50962782e-03],\n",
       "       [1.96244836e-01],\n",
       "       [1.41322613e-04],\n",
       "       [2.68399901e-07],\n",
       "       [2.16980152e-05],\n",
       "       [4.45783138e-04],\n",
       "       [2.93304581e-09],\n",
       "       [7.58924898e-07],\n",
       "       [9.99316096e-01],\n",
       "       [3.53293581e-05],\n",
       "       [4.20063770e-05],\n",
       "       [2.01229568e-07],\n",
       "       [4.62271089e-07],\n",
       "       [3.64861399e-01],\n",
       "       [9.99995232e-01],\n",
       "       [9.97792125e-01],\n",
       "       [3.42244953e-01],\n",
       "       [1.29106843e-06],\n",
       "       [3.41395736e-02],\n",
       "       [1.52062091e-06],\n",
       "       [1.35896832e-01],\n",
       "       [1.58282874e-05],\n",
       "       [9.95328546e-01],\n",
       "       [4.02933239e-07],\n",
       "       [4.85867262e-04],\n",
       "       [1.87138915e-02],\n",
       "       [6.56311361e-09],\n",
       "       [1.06464922e-01],\n",
       "       [6.59607267e-08],\n",
       "       [9.94044423e-01],\n",
       "       [6.39826059e-04],\n",
       "       [3.58914920e-09]], dtype=float32)"
      ]
     },
     "execution_count": 99,
     "metadata": {},
     "output_type": "execute_result"
    }
   ],
   "source": [
    "model.predict(x_test_scaled)"
   ]
  },
  {
   "cell_type": "code",
   "execution_count": 100,
   "id": "8e0ad8ce",
   "metadata": {
    "ExecuteTime": {
     "end_time": "2021-11-30T11:06:55.705998Z",
     "start_time": "2021-11-30T11:06:55.437903Z"
    }
   },
   "outputs": [
    {
     "name": "stdout",
     "output_type": "stream",
     "text": [
      "roc_auc_score for Model:  0.9935261194029852\n"
     ]
    },
    {
     "data": {
      "image/png": "[encoded data removed]",
      "text/plain": [
       "<Figure size 864x576 with 1 Axes>"
      ]
     },
     "metadata": {
      "needs_background": "light"
     },
     "output_type": "display_data"
    }
   ],
   "source": [
    "'''\n",
    "Create the Roc curve of the predictions.\n",
    "'''\n",
    "false_positive_rate, true_positive_rate, threshold = roc_curve(y_test, model.predict(x_test_scaled))\n",
    "print('roc_auc_score for Model: ', roc_auc_score(y_test, model.predict(x_test_scaled)))\n",
    "\n",
    "plt.figure(figsize=(12,8))\n",
    "plt.title(\"Model's - Roc\")\n",
    "plt.plot(false_positive_rate, true_positive_rate, linewidth=4)\n",
    "plt.plot([0, 1], ls=\"--\")\n",
    "plt.plot([0, 0], [1, 0] , c=\".7\"), plt.plot([1, 1] , c=\".7\")\n",
    "plt.ylabel('True Positive Rate')\n",
    "plt.xlabel('False Positive Rate')\n",
    "plt.grid(True,axis='y', color='w', linestyle='-', linewidth=0.5)\n",
    "plt.gca().patch.set_facecolor('0.8')\n",
    "plt.show()"
   ]
  },
  {
   "cell_type": "code",
   "execution_count": null,
   "id": "d34a721a",
   "metadata": {},
   "outputs": [],
   "source": []
  }
 ],
 "metadata": {
  "kernelspec": {
   "display_name": "Python 3 (ipykernel)",
   "language": "python",
   "name": "python3"
  },
  "language_info": {
   "codemirror_mode": {
    "name": "ipython",
    "version": 3
   },
   "file_extension": ".py",
   "mimetype": "text/x-python",
   "name": "python",
   "nbconvert_exporter": "python",
   "pygments_lexer": "ipython3",
   "version": "3.8.11"
  }
 },
 "nbformat": 4,
 "nbformat_minor": 5
}
